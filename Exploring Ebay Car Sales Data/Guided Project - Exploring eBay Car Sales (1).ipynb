{
 "cells": [
  {
   "cell_type": "markdown",
   "metadata": {
    "collapsed": true
   },
   "source": [
    "# INTRODUCTION\n",
    "\n",
    "Using a dataset of *eBay Kleinanzeigen* (the classified section of the German eBay website) consisting of 50K data points available on [kaggle](https://www.kaggle.com/orgesleka/used-cars-database/data), we want to (1) **CLEAN THE DATA** & (2) **ANALYZE THE DATA**. \n",
    "\n",
    "This dataset contains the following information:\n",
    "\n",
    "\n",
    "| **Variable**            |  **Description**                          | \n",
    "|-------------------------|-------------------------------------------|\n",
    "| dateCrawled             | When the ad was 1st crawled               |\n",
    "| name                    | Name of car                               |\n",
    "| seller                  | Private or Dealer as seller               |\n",
    "| offerType               | Type of listing                           |\n",
    "| price                   | Price on the car ad                       |\n",
    "| abtest                  | Whether the listing included A/B test     |\n",
    "| vehicleType             | Type of vehicle                           |\n",
    "| yearOfRegistration      | Year when car was 1st registered          |\n",
    "| gearbox                 | The transmission type                     |\n",
    "| powerPS                 | Horsepower of the car                     |\n",
    "| model                   | Model of the car                          |\n",
    "| kilometer               | # of kilometers driven                    | \n",
    "| monthOfRegistration     | Month in which car was 1st registered     |\n",
    "| fuelType                | Type of fuel the car uses                 |\n",
    "| brand                   | Brand of the car                          |\n",
    "| notRepairedDamage       | If the repairs were done on damaged car   |\n",
    "| dateCreated             | Date when eBay listing was created        |\n",
    "| nrOfPictures            | # of pics of car in ad                    |\n",
    "| postalCode              | Postal code where the car is at           |\n",
    "| lastSeenOnline          | When the crawler saw this ad last online  |\n"
   ]
  },
  {
   "cell_type": "code",
   "execution_count": 1,
   "metadata": {
    "collapsed": false
   },
   "outputs": [
    {
     "data": {
      "text/html": [
       "<div>\n",
       "<style scoped>\n",
       "    .dataframe tbody tr th:only-of-type {\n",
       "        vertical-align: middle;\n",
       "    }\n",
       "\n",
       "    .dataframe tbody tr th {\n",
       "        vertical-align: top;\n",
       "    }\n",
       "\n",
       "    .dataframe thead th {\n",
       "        text-align: right;\n",
       "    }\n",
       "</style>\n",
       "<table border=\"1\" class=\"dataframe\">\n",
       "  <thead>\n",
       "    <tr style=\"text-align: right;\">\n",
       "      <th></th>\n",
       "      <th>dateCrawled</th>\n",
       "      <th>name</th>\n",
       "      <th>seller</th>\n",
       "      <th>offerType</th>\n",
       "      <th>price</th>\n",
       "      <th>abtest</th>\n",
       "      <th>vehicleType</th>\n",
       "      <th>yearOfRegistration</th>\n",
       "      <th>gearbox</th>\n",
       "      <th>powerPS</th>\n",
       "      <th>model</th>\n",
       "      <th>odometer</th>\n",
       "      <th>monthOfRegistration</th>\n",
       "      <th>fuelType</th>\n",
       "      <th>brand</th>\n",
       "      <th>notRepairedDamage</th>\n",
       "      <th>dateCreated</th>\n",
       "      <th>nrOfPictures</th>\n",
       "      <th>postalCode</th>\n",
       "      <th>lastSeen</th>\n",
       "    </tr>\n",
       "  </thead>\n",
       "  <tbody>\n",
       "    <tr>\n",
       "      <th>0</th>\n",
       "      <td>2016-03-26 17:47:46</td>\n",
       "      <td>Peugeot_807_160_NAVTECH_ON_BOARD</td>\n",
       "      <td>privat</td>\n",
       "      <td>Angebot</td>\n",
       "      <td>$5,000</td>\n",
       "      <td>control</td>\n",
       "      <td>bus</td>\n",
       "      <td>2004</td>\n",
       "      <td>manuell</td>\n",
       "      <td>158</td>\n",
       "      <td>andere</td>\n",
       "      <td>150,000km</td>\n",
       "      <td>3</td>\n",
       "      <td>lpg</td>\n",
       "      <td>peugeot</td>\n",
       "      <td>nein</td>\n",
       "      <td>2016-03-26 00:00:00</td>\n",
       "      <td>0</td>\n",
       "      <td>79588</td>\n",
       "      <td>2016-04-06 06:45:54</td>\n",
       "    </tr>\n",
       "    <tr>\n",
       "      <th>1</th>\n",
       "      <td>2016-04-04 13:38:56</td>\n",
       "      <td>BMW_740i_4_4_Liter_HAMANN_UMBAU_Mega_Optik</td>\n",
       "      <td>privat</td>\n",
       "      <td>Angebot</td>\n",
       "      <td>$8,500</td>\n",
       "      <td>control</td>\n",
       "      <td>limousine</td>\n",
       "      <td>1997</td>\n",
       "      <td>automatik</td>\n",
       "      <td>286</td>\n",
       "      <td>7er</td>\n",
       "      <td>150,000km</td>\n",
       "      <td>6</td>\n",
       "      <td>benzin</td>\n",
       "      <td>bmw</td>\n",
       "      <td>nein</td>\n",
       "      <td>2016-04-04 00:00:00</td>\n",
       "      <td>0</td>\n",
       "      <td>71034</td>\n",
       "      <td>2016-04-06 14:45:08</td>\n",
       "    </tr>\n",
       "    <tr>\n",
       "      <th>2</th>\n",
       "      <td>2016-03-26 18:57:24</td>\n",
       "      <td>Volkswagen_Golf_1.6_United</td>\n",
       "      <td>privat</td>\n",
       "      <td>Angebot</td>\n",
       "      <td>$8,990</td>\n",
       "      <td>test</td>\n",
       "      <td>limousine</td>\n",
       "      <td>2009</td>\n",
       "      <td>manuell</td>\n",
       "      <td>102</td>\n",
       "      <td>golf</td>\n",
       "      <td>70,000km</td>\n",
       "      <td>7</td>\n",
       "      <td>benzin</td>\n",
       "      <td>volkswagen</td>\n",
       "      <td>nein</td>\n",
       "      <td>2016-03-26 00:00:00</td>\n",
       "      <td>0</td>\n",
       "      <td>35394</td>\n",
       "      <td>2016-04-06 20:15:37</td>\n",
       "    </tr>\n",
       "    <tr>\n",
       "      <th>3</th>\n",
       "      <td>2016-03-12 16:58:10</td>\n",
       "      <td>Smart_smart_fortwo_coupe_softouch/F1/Klima/Pan...</td>\n",
       "      <td>privat</td>\n",
       "      <td>Angebot</td>\n",
       "      <td>$4,350</td>\n",
       "      <td>control</td>\n",
       "      <td>kleinwagen</td>\n",
       "      <td>2007</td>\n",
       "      <td>automatik</td>\n",
       "      <td>71</td>\n",
       "      <td>fortwo</td>\n",
       "      <td>70,000km</td>\n",
       "      <td>6</td>\n",
       "      <td>benzin</td>\n",
       "      <td>smart</td>\n",
       "      <td>nein</td>\n",
       "      <td>2016-03-12 00:00:00</td>\n",
       "      <td>0</td>\n",
       "      <td>33729</td>\n",
       "      <td>2016-03-15 03:16:28</td>\n",
       "    </tr>\n",
       "    <tr>\n",
       "      <th>4</th>\n",
       "      <td>2016-04-01 14:38:50</td>\n",
       "      <td>Ford_Focus_1_6_Benzin_TÜV_neu_ist_sehr_gepfleg...</td>\n",
       "      <td>privat</td>\n",
       "      <td>Angebot</td>\n",
       "      <td>$1,350</td>\n",
       "      <td>test</td>\n",
       "      <td>kombi</td>\n",
       "      <td>2003</td>\n",
       "      <td>manuell</td>\n",
       "      <td>0</td>\n",
       "      <td>focus</td>\n",
       "      <td>150,000km</td>\n",
       "      <td>7</td>\n",
       "      <td>benzin</td>\n",
       "      <td>ford</td>\n",
       "      <td>nein</td>\n",
       "      <td>2016-04-01 00:00:00</td>\n",
       "      <td>0</td>\n",
       "      <td>39218</td>\n",
       "      <td>2016-04-01 14:38:50</td>\n",
       "    </tr>\n",
       "  </tbody>\n",
       "</table>\n",
       "</div>"
      ],
      "text/plain": [
       "           dateCrawled                                               name  \\\n",
       "0  2016-03-26 17:47:46                   Peugeot_807_160_NAVTECH_ON_BOARD   \n",
       "1  2016-04-04 13:38:56         BMW_740i_4_4_Liter_HAMANN_UMBAU_Mega_Optik   \n",
       "2  2016-03-26 18:57:24                         Volkswagen_Golf_1.6_United   \n",
       "3  2016-03-12 16:58:10  Smart_smart_fortwo_coupe_softouch/F1/Klima/Pan...   \n",
       "4  2016-04-01 14:38:50  Ford_Focus_1_6_Benzin_TÜV_neu_ist_sehr_gepfleg...   \n",
       "\n",
       "   seller offerType   price   abtest vehicleType  yearOfRegistration  \\\n",
       "0  privat   Angebot  $5,000  control         bus                2004   \n",
       "1  privat   Angebot  $8,500  control   limousine                1997   \n",
       "2  privat   Angebot  $8,990     test   limousine                2009   \n",
       "3  privat   Angebot  $4,350  control  kleinwagen                2007   \n",
       "4  privat   Angebot  $1,350     test       kombi                2003   \n",
       "\n",
       "     gearbox  powerPS   model   odometer  monthOfRegistration fuelType  \\\n",
       "0    manuell      158  andere  150,000km                    3      lpg   \n",
       "1  automatik      286     7er  150,000km                    6   benzin   \n",
       "2    manuell      102    golf   70,000km                    7   benzin   \n",
       "3  automatik       71  fortwo   70,000km                    6   benzin   \n",
       "4    manuell        0   focus  150,000km                    7   benzin   \n",
       "\n",
       "        brand notRepairedDamage          dateCreated  nrOfPictures  \\\n",
       "0     peugeot              nein  2016-03-26 00:00:00             0   \n",
       "1         bmw              nein  2016-04-04 00:00:00             0   \n",
       "2  volkswagen              nein  2016-03-26 00:00:00             0   \n",
       "3       smart              nein  2016-03-12 00:00:00             0   \n",
       "4        ford              nein  2016-04-01 00:00:00             0   \n",
       "\n",
       "   postalCode             lastSeen  \n",
       "0       79588  2016-04-06 06:45:54  \n",
       "1       71034  2016-04-06 14:45:08  \n",
       "2       35394  2016-04-06 20:15:37  \n",
       "3       33729  2016-03-15 03:16:28  \n",
       "4       39218  2016-04-01 14:38:50  "
      ]
     },
     "execution_count": 1,
     "metadata": {},
     "output_type": "execute_result"
    }
   ],
   "source": [
    "import pandas as pd\n",
    "import numpy as np\n",
    "import matplotlib.pyplot as plt\n",
    "%matplotlib inline\n",
    "\n",
    "autos = pd.read_csv(\"autos.csv\", encoding = \"Latin-1\")\n",
    "autos.head()"
   ]
  },
  {
   "cell_type": "code",
   "execution_count": 2,
   "metadata": {
    "collapsed": false
   },
   "outputs": [
    {
     "name": "stdout",
     "output_type": "stream",
     "text": [
      "<class 'pandas.core.frame.DataFrame'>\n",
      "RangeIndex: 50000 entries, 0 to 49999\n",
      "Data columns (total 20 columns):\n",
      "dateCrawled            50000 non-null object\n",
      "name                   50000 non-null object\n",
      "seller                 50000 non-null object\n",
      "offerType              50000 non-null object\n",
      "price                  50000 non-null object\n",
      "abtest                 50000 non-null object\n",
      "vehicleType            44905 non-null object\n",
      "yearOfRegistration     50000 non-null int64\n",
      "gearbox                47320 non-null object\n",
      "powerPS                50000 non-null int64\n",
      "model                  47242 non-null object\n",
      "odometer               50000 non-null object\n",
      "monthOfRegistration    50000 non-null int64\n",
      "fuelType               45518 non-null object\n",
      "brand                  50000 non-null object\n",
      "notRepairedDamage      40171 non-null object\n",
      "dateCreated            50000 non-null object\n",
      "nrOfPictures           50000 non-null int64\n",
      "postalCode             50000 non-null int64\n",
      "lastSeen               50000 non-null object\n",
      "dtypes: int64(5), object(15)\n",
      "memory usage: 7.6+ MB\n"
     ]
    }
   ],
   "source": [
    "autos.info()"
   ]
  },
  {
   "cell_type": "markdown",
   "metadata": {},
   "source": [
    "There are several things that need to change: \n",
    "\n",
    "(1) need to lower case everything\n",
    "\n",
    "(2) deal with missing values in \"vehicleType\", \"gearbox\", \"model\", \"fuelType\", \"notRepairedDamage\"\n",
    "\n",
    "(3) turn things into snake_case\n",
    "\n",
    "(4) turn \"price\" and \"odometer\" into float"
   ]
  },
  {
   "cell_type": "markdown",
   "metadata": {},
   "source": [
    "# Clean Column Name"
   ]
  },
  {
   "cell_type": "code",
   "execution_count": 3,
   "metadata": {
    "collapsed": false
   },
   "outputs": [
    {
     "data": {
      "text/html": [
       "<div>\n",
       "<style scoped>\n",
       "    .dataframe tbody tr th:only-of-type {\n",
       "        vertical-align: middle;\n",
       "    }\n",
       "\n",
       "    .dataframe tbody tr th {\n",
       "        vertical-align: top;\n",
       "    }\n",
       "\n",
       "    .dataframe thead th {\n",
       "        text-align: right;\n",
       "    }\n",
       "</style>\n",
       "<table border=\"1\" class=\"dataframe\">\n",
       "  <thead>\n",
       "    <tr style=\"text-align: right;\">\n",
       "      <th></th>\n",
       "      <th>date_crawled</th>\n",
       "      <th>name</th>\n",
       "      <th>seller</th>\n",
       "      <th>offer_type</th>\n",
       "      <th>price</th>\n",
       "      <th>abtest</th>\n",
       "      <th>vehicle_type</th>\n",
       "      <th>registration_year</th>\n",
       "      <th>gear_box</th>\n",
       "      <th>powerps</th>\n",
       "      <th>model</th>\n",
       "      <th>odometer</th>\n",
       "      <th>registration_month</th>\n",
       "      <th>fuel_type</th>\n",
       "      <th>brand</th>\n",
       "      <th>unrepaired_damage</th>\n",
       "      <th>ad_created</th>\n",
       "      <th>num_pictures</th>\n",
       "      <th>postal_code</th>\n",
       "      <th>last_seen</th>\n",
       "    </tr>\n",
       "  </thead>\n",
       "  <tbody>\n",
       "    <tr>\n",
       "      <th>0</th>\n",
       "      <td>2016-03-26 17:47:46</td>\n",
       "      <td>Peugeot_807_160_NAVTECH_ON_BOARD</td>\n",
       "      <td>privat</td>\n",
       "      <td>Angebot</td>\n",
       "      <td>$5,000</td>\n",
       "      <td>control</td>\n",
       "      <td>bus</td>\n",
       "      <td>2004</td>\n",
       "      <td>manuell</td>\n",
       "      <td>158</td>\n",
       "      <td>andere</td>\n",
       "      <td>150,000km</td>\n",
       "      <td>3</td>\n",
       "      <td>lpg</td>\n",
       "      <td>peugeot</td>\n",
       "      <td>nein</td>\n",
       "      <td>2016-03-26 00:00:00</td>\n",
       "      <td>0</td>\n",
       "      <td>79588</td>\n",
       "      <td>2016-04-06 06:45:54</td>\n",
       "    </tr>\n",
       "    <tr>\n",
       "      <th>1</th>\n",
       "      <td>2016-04-04 13:38:56</td>\n",
       "      <td>BMW_740i_4_4_Liter_HAMANN_UMBAU_Mega_Optik</td>\n",
       "      <td>privat</td>\n",
       "      <td>Angebot</td>\n",
       "      <td>$8,500</td>\n",
       "      <td>control</td>\n",
       "      <td>limousine</td>\n",
       "      <td>1997</td>\n",
       "      <td>automatik</td>\n",
       "      <td>286</td>\n",
       "      <td>7er</td>\n",
       "      <td>150,000km</td>\n",
       "      <td>6</td>\n",
       "      <td>benzin</td>\n",
       "      <td>bmw</td>\n",
       "      <td>nein</td>\n",
       "      <td>2016-04-04 00:00:00</td>\n",
       "      <td>0</td>\n",
       "      <td>71034</td>\n",
       "      <td>2016-04-06 14:45:08</td>\n",
       "    </tr>\n",
       "    <tr>\n",
       "      <th>2</th>\n",
       "      <td>2016-03-26 18:57:24</td>\n",
       "      <td>Volkswagen_Golf_1.6_United</td>\n",
       "      <td>privat</td>\n",
       "      <td>Angebot</td>\n",
       "      <td>$8,990</td>\n",
       "      <td>test</td>\n",
       "      <td>limousine</td>\n",
       "      <td>2009</td>\n",
       "      <td>manuell</td>\n",
       "      <td>102</td>\n",
       "      <td>golf</td>\n",
       "      <td>70,000km</td>\n",
       "      <td>7</td>\n",
       "      <td>benzin</td>\n",
       "      <td>volkswagen</td>\n",
       "      <td>nein</td>\n",
       "      <td>2016-03-26 00:00:00</td>\n",
       "      <td>0</td>\n",
       "      <td>35394</td>\n",
       "      <td>2016-04-06 20:15:37</td>\n",
       "    </tr>\n",
       "    <tr>\n",
       "      <th>3</th>\n",
       "      <td>2016-03-12 16:58:10</td>\n",
       "      <td>Smart_smart_fortwo_coupe_softouch/F1/Klima/Pan...</td>\n",
       "      <td>privat</td>\n",
       "      <td>Angebot</td>\n",
       "      <td>$4,350</td>\n",
       "      <td>control</td>\n",
       "      <td>kleinwagen</td>\n",
       "      <td>2007</td>\n",
       "      <td>automatik</td>\n",
       "      <td>71</td>\n",
       "      <td>fortwo</td>\n",
       "      <td>70,000km</td>\n",
       "      <td>6</td>\n",
       "      <td>benzin</td>\n",
       "      <td>smart</td>\n",
       "      <td>nein</td>\n",
       "      <td>2016-03-12 00:00:00</td>\n",
       "      <td>0</td>\n",
       "      <td>33729</td>\n",
       "      <td>2016-03-15 03:16:28</td>\n",
       "    </tr>\n",
       "    <tr>\n",
       "      <th>4</th>\n",
       "      <td>2016-04-01 14:38:50</td>\n",
       "      <td>Ford_Focus_1_6_Benzin_TÜV_neu_ist_sehr_gepfleg...</td>\n",
       "      <td>privat</td>\n",
       "      <td>Angebot</td>\n",
       "      <td>$1,350</td>\n",
       "      <td>test</td>\n",
       "      <td>kombi</td>\n",
       "      <td>2003</td>\n",
       "      <td>manuell</td>\n",
       "      <td>0</td>\n",
       "      <td>focus</td>\n",
       "      <td>150,000km</td>\n",
       "      <td>7</td>\n",
       "      <td>benzin</td>\n",
       "      <td>ford</td>\n",
       "      <td>nein</td>\n",
       "      <td>2016-04-01 00:00:00</td>\n",
       "      <td>0</td>\n",
       "      <td>39218</td>\n",
       "      <td>2016-04-01 14:38:50</td>\n",
       "    </tr>\n",
       "  </tbody>\n",
       "</table>\n",
       "</div>"
      ],
      "text/plain": [
       "          date_crawled                                               name  \\\n",
       "0  2016-03-26 17:47:46                   Peugeot_807_160_NAVTECH_ON_BOARD   \n",
       "1  2016-04-04 13:38:56         BMW_740i_4_4_Liter_HAMANN_UMBAU_Mega_Optik   \n",
       "2  2016-03-26 18:57:24                         Volkswagen_Golf_1.6_United   \n",
       "3  2016-03-12 16:58:10  Smart_smart_fortwo_coupe_softouch/F1/Klima/Pan...   \n",
       "4  2016-04-01 14:38:50  Ford_Focus_1_6_Benzin_TÜV_neu_ist_sehr_gepfleg...   \n",
       "\n",
       "   seller offer_type   price   abtest vehicle_type  registration_year  \\\n",
       "0  privat    Angebot  $5,000  control          bus               2004   \n",
       "1  privat    Angebot  $8,500  control    limousine               1997   \n",
       "2  privat    Angebot  $8,990     test    limousine               2009   \n",
       "3  privat    Angebot  $4,350  control   kleinwagen               2007   \n",
       "4  privat    Angebot  $1,350     test        kombi               2003   \n",
       "\n",
       "    gear_box  powerps   model   odometer  registration_month fuel_type  \\\n",
       "0    manuell      158  andere  150,000km                   3       lpg   \n",
       "1  automatik      286     7er  150,000km                   6    benzin   \n",
       "2    manuell      102    golf   70,000km                   7    benzin   \n",
       "3  automatik       71  fortwo   70,000km                   6    benzin   \n",
       "4    manuell        0   focus  150,000km                   7    benzin   \n",
       "\n",
       "        brand unrepaired_damage           ad_created  num_pictures  \\\n",
       "0     peugeot              nein  2016-03-26 00:00:00             0   \n",
       "1         bmw              nein  2016-04-04 00:00:00             0   \n",
       "2  volkswagen              nein  2016-03-26 00:00:00             0   \n",
       "3       smart              nein  2016-03-12 00:00:00             0   \n",
       "4        ford              nein  2016-04-01 00:00:00             0   \n",
       "\n",
       "   postal_code            last_seen  \n",
       "0        79588  2016-04-06 06:45:54  \n",
       "1        71034  2016-04-06 14:45:08  \n",
       "2        35394  2016-04-06 20:15:37  \n",
       "3        33729  2016-03-15 03:16:28  \n",
       "4        39218  2016-04-01 14:38:50  "
      ]
     },
     "execution_count": 3,
     "metadata": {},
     "output_type": "execute_result"
    }
   ],
   "source": [
    "autos.rename(str.lower, axis = 1, inplace = True)\n",
    "autos.rename({\"yearofregistration\":\"registration_year\", \n",
    "              \"monthofregistration\":\"registration_month\",\n",
    "              \"notrepaireddamage\":\"unrepaired_damage\",\n",
    "              \"datecreated\":\"ad_created\",\n",
    "              \"datecrawled\":\"date_crawled\",\n",
    "              \"offertype\":\"offer_type\",\n",
    "              \"vehicletype\":\"vehicle_type\",\n",
    "              \"gearbox\":\"gear_box\",\n",
    "              \"fueltype\":\"fuel_type\",\n",
    "              \"nrofpictures\":\"num_pictures\",\n",
    "              \"postalcode\":\"postal_code\",\n",
    "              \"lastseen\":\"last_seen\"}, axis = 1, inplace = True)\n",
    "\n",
    "autos.head(5)"
   ]
  },
  {
   "cell_type": "markdown",
   "metadata": {},
   "source": [
    "# Initial Exploration + Cleaning "
   ]
  },
  {
   "cell_type": "code",
   "execution_count": 4,
   "metadata": {
    "collapsed": false
   },
   "outputs": [
    {
     "data": {
      "text/html": [
       "<div>\n",
       "<style scoped>\n",
       "    .dataframe tbody tr th:only-of-type {\n",
       "        vertical-align: middle;\n",
       "    }\n",
       "\n",
       "    .dataframe tbody tr th {\n",
       "        vertical-align: top;\n",
       "    }\n",
       "\n",
       "    .dataframe thead th {\n",
       "        text-align: right;\n",
       "    }\n",
       "</style>\n",
       "<table border=\"1\" class=\"dataframe\">\n",
       "  <thead>\n",
       "    <tr style=\"text-align: right;\">\n",
       "      <th></th>\n",
       "      <th>date_crawled</th>\n",
       "      <th>name</th>\n",
       "      <th>seller</th>\n",
       "      <th>offer_type</th>\n",
       "      <th>price</th>\n",
       "      <th>abtest</th>\n",
       "      <th>vehicle_type</th>\n",
       "      <th>registration_year</th>\n",
       "      <th>gear_box</th>\n",
       "      <th>powerps</th>\n",
       "      <th>model</th>\n",
       "      <th>odometer</th>\n",
       "      <th>registration_month</th>\n",
       "      <th>fuel_type</th>\n",
       "      <th>brand</th>\n",
       "      <th>unrepaired_damage</th>\n",
       "      <th>ad_created</th>\n",
       "      <th>num_pictures</th>\n",
       "      <th>postal_code</th>\n",
       "      <th>last_seen</th>\n",
       "    </tr>\n",
       "  </thead>\n",
       "  <tbody>\n",
       "    <tr>\n",
       "      <th>count</th>\n",
       "      <td>50000</td>\n",
       "      <td>50000</td>\n",
       "      <td>50000</td>\n",
       "      <td>50000</td>\n",
       "      <td>50000</td>\n",
       "      <td>50000</td>\n",
       "      <td>44905</td>\n",
       "      <td>50000.000000</td>\n",
       "      <td>47320</td>\n",
       "      <td>50000.000000</td>\n",
       "      <td>47242</td>\n",
       "      <td>50000</td>\n",
       "      <td>50000.000000</td>\n",
       "      <td>45518</td>\n",
       "      <td>50000</td>\n",
       "      <td>40171</td>\n",
       "      <td>50000</td>\n",
       "      <td>50000.0</td>\n",
       "      <td>50000.000000</td>\n",
       "      <td>50000</td>\n",
       "    </tr>\n",
       "    <tr>\n",
       "      <th>unique</th>\n",
       "      <td>48213</td>\n",
       "      <td>38754</td>\n",
       "      <td>2</td>\n",
       "      <td>2</td>\n",
       "      <td>2357</td>\n",
       "      <td>2</td>\n",
       "      <td>8</td>\n",
       "      <td>NaN</td>\n",
       "      <td>2</td>\n",
       "      <td>NaN</td>\n",
       "      <td>245</td>\n",
       "      <td>13</td>\n",
       "      <td>NaN</td>\n",
       "      <td>7</td>\n",
       "      <td>40</td>\n",
       "      <td>2</td>\n",
       "      <td>76</td>\n",
       "      <td>NaN</td>\n",
       "      <td>NaN</td>\n",
       "      <td>39481</td>\n",
       "    </tr>\n",
       "    <tr>\n",
       "      <th>top</th>\n",
       "      <td>2016-03-16 21:50:53</td>\n",
       "      <td>Ford_Fiesta</td>\n",
       "      <td>privat</td>\n",
       "      <td>Angebot</td>\n",
       "      <td>$0</td>\n",
       "      <td>test</td>\n",
       "      <td>limousine</td>\n",
       "      <td>NaN</td>\n",
       "      <td>manuell</td>\n",
       "      <td>NaN</td>\n",
       "      <td>golf</td>\n",
       "      <td>150,000km</td>\n",
       "      <td>NaN</td>\n",
       "      <td>benzin</td>\n",
       "      <td>volkswagen</td>\n",
       "      <td>nein</td>\n",
       "      <td>2016-04-03 00:00:00</td>\n",
       "      <td>NaN</td>\n",
       "      <td>NaN</td>\n",
       "      <td>2016-04-07 06:17:27</td>\n",
       "    </tr>\n",
       "    <tr>\n",
       "      <th>freq</th>\n",
       "      <td>3</td>\n",
       "      <td>78</td>\n",
       "      <td>49999</td>\n",
       "      <td>49999</td>\n",
       "      <td>1421</td>\n",
       "      <td>25756</td>\n",
       "      <td>12859</td>\n",
       "      <td>NaN</td>\n",
       "      <td>36993</td>\n",
       "      <td>NaN</td>\n",
       "      <td>4024</td>\n",
       "      <td>32424</td>\n",
       "      <td>NaN</td>\n",
       "      <td>30107</td>\n",
       "      <td>10687</td>\n",
       "      <td>35232</td>\n",
       "      <td>1946</td>\n",
       "      <td>NaN</td>\n",
       "      <td>NaN</td>\n",
       "      <td>8</td>\n",
       "    </tr>\n",
       "    <tr>\n",
       "      <th>mean</th>\n",
       "      <td>NaN</td>\n",
       "      <td>NaN</td>\n",
       "      <td>NaN</td>\n",
       "      <td>NaN</td>\n",
       "      <td>NaN</td>\n",
       "      <td>NaN</td>\n",
       "      <td>NaN</td>\n",
       "      <td>2005.073280</td>\n",
       "      <td>NaN</td>\n",
       "      <td>116.355920</td>\n",
       "      <td>NaN</td>\n",
       "      <td>NaN</td>\n",
       "      <td>5.723360</td>\n",
       "      <td>NaN</td>\n",
       "      <td>NaN</td>\n",
       "      <td>NaN</td>\n",
       "      <td>NaN</td>\n",
       "      <td>0.0</td>\n",
       "      <td>50813.627300</td>\n",
       "      <td>NaN</td>\n",
       "    </tr>\n",
       "    <tr>\n",
       "      <th>std</th>\n",
       "      <td>NaN</td>\n",
       "      <td>NaN</td>\n",
       "      <td>NaN</td>\n",
       "      <td>NaN</td>\n",
       "      <td>NaN</td>\n",
       "      <td>NaN</td>\n",
       "      <td>NaN</td>\n",
       "      <td>105.712813</td>\n",
       "      <td>NaN</td>\n",
       "      <td>209.216627</td>\n",
       "      <td>NaN</td>\n",
       "      <td>NaN</td>\n",
       "      <td>3.711984</td>\n",
       "      <td>NaN</td>\n",
       "      <td>NaN</td>\n",
       "      <td>NaN</td>\n",
       "      <td>NaN</td>\n",
       "      <td>0.0</td>\n",
       "      <td>25779.747957</td>\n",
       "      <td>NaN</td>\n",
       "    </tr>\n",
       "    <tr>\n",
       "      <th>min</th>\n",
       "      <td>NaN</td>\n",
       "      <td>NaN</td>\n",
       "      <td>NaN</td>\n",
       "      <td>NaN</td>\n",
       "      <td>NaN</td>\n",
       "      <td>NaN</td>\n",
       "      <td>NaN</td>\n",
       "      <td>1000.000000</td>\n",
       "      <td>NaN</td>\n",
       "      <td>0.000000</td>\n",
       "      <td>NaN</td>\n",
       "      <td>NaN</td>\n",
       "      <td>0.000000</td>\n",
       "      <td>NaN</td>\n",
       "      <td>NaN</td>\n",
       "      <td>NaN</td>\n",
       "      <td>NaN</td>\n",
       "      <td>0.0</td>\n",
       "      <td>1067.000000</td>\n",
       "      <td>NaN</td>\n",
       "    </tr>\n",
       "    <tr>\n",
       "      <th>25%</th>\n",
       "      <td>NaN</td>\n",
       "      <td>NaN</td>\n",
       "      <td>NaN</td>\n",
       "      <td>NaN</td>\n",
       "      <td>NaN</td>\n",
       "      <td>NaN</td>\n",
       "      <td>NaN</td>\n",
       "      <td>1999.000000</td>\n",
       "      <td>NaN</td>\n",
       "      <td>70.000000</td>\n",
       "      <td>NaN</td>\n",
       "      <td>NaN</td>\n",
       "      <td>3.000000</td>\n",
       "      <td>NaN</td>\n",
       "      <td>NaN</td>\n",
       "      <td>NaN</td>\n",
       "      <td>NaN</td>\n",
       "      <td>0.0</td>\n",
       "      <td>30451.000000</td>\n",
       "      <td>NaN</td>\n",
       "    </tr>\n",
       "    <tr>\n",
       "      <th>50%</th>\n",
       "      <td>NaN</td>\n",
       "      <td>NaN</td>\n",
       "      <td>NaN</td>\n",
       "      <td>NaN</td>\n",
       "      <td>NaN</td>\n",
       "      <td>NaN</td>\n",
       "      <td>NaN</td>\n",
       "      <td>2003.000000</td>\n",
       "      <td>NaN</td>\n",
       "      <td>105.000000</td>\n",
       "      <td>NaN</td>\n",
       "      <td>NaN</td>\n",
       "      <td>6.000000</td>\n",
       "      <td>NaN</td>\n",
       "      <td>NaN</td>\n",
       "      <td>NaN</td>\n",
       "      <td>NaN</td>\n",
       "      <td>0.0</td>\n",
       "      <td>49577.000000</td>\n",
       "      <td>NaN</td>\n",
       "    </tr>\n",
       "    <tr>\n",
       "      <th>75%</th>\n",
       "      <td>NaN</td>\n",
       "      <td>NaN</td>\n",
       "      <td>NaN</td>\n",
       "      <td>NaN</td>\n",
       "      <td>NaN</td>\n",
       "      <td>NaN</td>\n",
       "      <td>NaN</td>\n",
       "      <td>2008.000000</td>\n",
       "      <td>NaN</td>\n",
       "      <td>150.000000</td>\n",
       "      <td>NaN</td>\n",
       "      <td>NaN</td>\n",
       "      <td>9.000000</td>\n",
       "      <td>NaN</td>\n",
       "      <td>NaN</td>\n",
       "      <td>NaN</td>\n",
       "      <td>NaN</td>\n",
       "      <td>0.0</td>\n",
       "      <td>71540.000000</td>\n",
       "      <td>NaN</td>\n",
       "    </tr>\n",
       "    <tr>\n",
       "      <th>max</th>\n",
       "      <td>NaN</td>\n",
       "      <td>NaN</td>\n",
       "      <td>NaN</td>\n",
       "      <td>NaN</td>\n",
       "      <td>NaN</td>\n",
       "      <td>NaN</td>\n",
       "      <td>NaN</td>\n",
       "      <td>9999.000000</td>\n",
       "      <td>NaN</td>\n",
       "      <td>17700.000000</td>\n",
       "      <td>NaN</td>\n",
       "      <td>NaN</td>\n",
       "      <td>12.000000</td>\n",
       "      <td>NaN</td>\n",
       "      <td>NaN</td>\n",
       "      <td>NaN</td>\n",
       "      <td>NaN</td>\n",
       "      <td>0.0</td>\n",
       "      <td>99998.000000</td>\n",
       "      <td>NaN</td>\n",
       "    </tr>\n",
       "  </tbody>\n",
       "</table>\n",
       "</div>"
      ],
      "text/plain": [
       "               date_crawled         name  seller offer_type  price abtest  \\\n",
       "count                 50000        50000   50000      50000  50000  50000   \n",
       "unique                48213        38754       2          2   2357      2   \n",
       "top     2016-03-16 21:50:53  Ford_Fiesta  privat    Angebot     $0   test   \n",
       "freq                      3           78   49999      49999   1421  25756   \n",
       "mean                    NaN          NaN     NaN        NaN    NaN    NaN   \n",
       "std                     NaN          NaN     NaN        NaN    NaN    NaN   \n",
       "min                     NaN          NaN     NaN        NaN    NaN    NaN   \n",
       "25%                     NaN          NaN     NaN        NaN    NaN    NaN   \n",
       "50%                     NaN          NaN     NaN        NaN    NaN    NaN   \n",
       "75%                     NaN          NaN     NaN        NaN    NaN    NaN   \n",
       "max                     NaN          NaN     NaN        NaN    NaN    NaN   \n",
       "\n",
       "       vehicle_type  registration_year gear_box       powerps  model  \\\n",
       "count         44905       50000.000000    47320  50000.000000  47242   \n",
       "unique            8                NaN        2           NaN    245   \n",
       "top       limousine                NaN  manuell           NaN   golf   \n",
       "freq          12859                NaN    36993           NaN   4024   \n",
       "mean            NaN        2005.073280      NaN    116.355920    NaN   \n",
       "std             NaN         105.712813      NaN    209.216627    NaN   \n",
       "min             NaN        1000.000000      NaN      0.000000    NaN   \n",
       "25%             NaN        1999.000000      NaN     70.000000    NaN   \n",
       "50%             NaN        2003.000000      NaN    105.000000    NaN   \n",
       "75%             NaN        2008.000000      NaN    150.000000    NaN   \n",
       "max             NaN        9999.000000      NaN  17700.000000    NaN   \n",
       "\n",
       "         odometer  registration_month fuel_type       brand unrepaired_damage  \\\n",
       "count       50000        50000.000000     45518       50000             40171   \n",
       "unique         13                 NaN         7          40                 2   \n",
       "top     150,000km                 NaN    benzin  volkswagen              nein   \n",
       "freq        32424                 NaN     30107       10687             35232   \n",
       "mean          NaN            5.723360       NaN         NaN               NaN   \n",
       "std           NaN            3.711984       NaN         NaN               NaN   \n",
       "min           NaN            0.000000       NaN         NaN               NaN   \n",
       "25%           NaN            3.000000       NaN         NaN               NaN   \n",
       "50%           NaN            6.000000       NaN         NaN               NaN   \n",
       "75%           NaN            9.000000       NaN         NaN               NaN   \n",
       "max           NaN           12.000000       NaN         NaN               NaN   \n",
       "\n",
       "                 ad_created  num_pictures   postal_code            last_seen  \n",
       "count                 50000       50000.0  50000.000000                50000  \n",
       "unique                   76           NaN           NaN                39481  \n",
       "top     2016-04-03 00:00:00           NaN           NaN  2016-04-07 06:17:27  \n",
       "freq                   1946           NaN           NaN                    8  \n",
       "mean                    NaN           0.0  50813.627300                  NaN  \n",
       "std                     NaN           0.0  25779.747957                  NaN  \n",
       "min                     NaN           0.0   1067.000000                  NaN  \n",
       "25%                     NaN           0.0  30451.000000                  NaN  \n",
       "50%                     NaN           0.0  49577.000000                  NaN  \n",
       "75%                     NaN           0.0  71540.000000                  NaN  \n",
       "max                     NaN           0.0  99998.000000                  NaN  "
      ]
     },
     "execution_count": 4,
     "metadata": {},
     "output_type": "execute_result"
    }
   ],
   "source": [
    "autos.describe(include = \"all\")"
   ]
  },
  {
   "cell_type": "code",
   "execution_count": 5,
   "metadata": {
    "collapsed": false
   },
   "outputs": [
    {
     "name": "stdout",
     "output_type": "stream",
     "text": [
      "Angebot    49999\n",
      "Gesuch         1\n",
      "Name: offer_type, dtype: int64\n",
      "\n",
      "\n",
      "privat        49999\n",
      "gewerblich        1\n",
      "Name: seller, dtype: int64\n",
      "\n",
      "\n",
      "0    50000\n",
      "Name: num_pictures, dtype: int64\n",
      "\n",
      "\n",
      "manuell      36993\n",
      "automatik    10327\n",
      "Name: gear_box, dtype: int64\n",
      "\n",
      "\n",
      "test       25756\n",
      "control    24244\n",
      "Name: abtest, dtype: int64\n"
     ]
    }
   ],
   "source": [
    "print(autos[\"offer_type\"].value_counts())\n",
    "print(\"\\n\")\n",
    "print(autos['seller'].value_counts())\n",
    "print(\"\\n\")\n",
    "print(autos[\"num_pictures\"].value_counts())\n",
    "print(\"\\n\")\n",
    "print(autos['gear_box'].value_counts())\n",
    "print(\"\\n\")\n",
    "print(autos['abtest'].value_counts())"
   ]
  },
  {
   "cell_type": "markdown",
   "metadata": {},
   "source": [
    "1) Remove \"seller\", \"num_pictures\" and \"seller\" from dataframe\n",
    "\n",
    "2) \"powerps\" has an unrealistic value (> 1000 HP). Need to further analyze\n",
    "\n",
    "3) Similarly, 'price' also need to be examined as there is no way to have a $2 million+ vehicle\n",
    "\n",
    "4) \"registration_year\" has an unrealistic range, particularly at the extremes. Need to remove them. \n",
    "\n",
    "5) Odometer + price needs to return to floats"
   ]
  },
  {
   "cell_type": "code",
   "execution_count": 6,
   "metadata": {
    "collapsed": false
   },
   "outputs": [],
   "source": [
    "# Fix price\n",
    "\n",
    "autos['price'].value_counts()\n",
    "# There's \"$\" and \",\". Plus it's an object and not an integer/float \n",
    "\n",
    "autos['price'] = autos['price'].str.replace(\"$\",\"\").str.replace(\",\",\"\")"
   ]
  },
  {
   "cell_type": "code",
   "execution_count": 7,
   "metadata": {
    "collapsed": false
   },
   "outputs": [
    {
     "data": {
      "text/plain": [
       "count    5.000000e+04\n",
       "mean     9.840044e+03\n",
       "std      4.811044e+05\n",
       "min      0.000000e+00\n",
       "25%      1.100000e+03\n",
       "50%      2.950000e+03\n",
       "75%      7.200000e+03\n",
       "max      1.000000e+08\n",
       "Name: price, dtype: float64"
      ]
     },
     "execution_count": 7,
     "metadata": {},
     "output_type": "execute_result"
    }
   ],
   "source": [
    "autos['price'] = autos['price'].astype(float)\n",
    "autos['price'].describe()"
   ]
  },
  {
   "cell_type": "code",
   "execution_count": 8,
   "metadata": {
    "collapsed": false
   },
   "outputs": [],
   "source": [
    "# fix odometer \n",
    "autos['odometer'].value_counts()\n",
    "autos['odometer'].unique()\n",
    "# Need to deal with \",\" and \"km\" + turn it to float/int\n",
    "autos['odometer'] = autos['odometer'].str.replace(\",\", \"\")\n",
    "autos['odometer'] = autos['odometer'].str.replace(\"km\", \"\")\n",
    "autos['odometer'] = autos['odometer'].astype(int)\n"
   ]
  },
  {
   "cell_type": "code",
   "execution_count": 9,
   "metadata": {
    "collapsed": false
   },
   "outputs": [],
   "source": [
    "autos.rename({\"odometer\": \"odometer_km\"}, axis = 1, inplace = True)"
   ]
  },
  {
   "cell_type": "code",
   "execution_count": 10,
   "metadata": {
    "collapsed": false
   },
   "outputs": [
    {
     "data": {
      "text/plain": [
       "Index(['date_crawled', 'name', 'seller', 'offer_type', 'price', 'abtest',\n",
       "       'vehicle_type', 'registration_year', 'gear_box', 'powerps', 'model',\n",
       "       'odometer_km', 'registration_month', 'fuel_type', 'brand',\n",
       "       'unrepaired_damage', 'ad_created', 'num_pictures', 'postal_code',\n",
       "       'last_seen'],\n",
       "      dtype='object')"
      ]
     },
     "execution_count": 10,
     "metadata": {},
     "output_type": "execute_result"
    }
   ],
   "source": [
    "autos.columns\n",
    "# removing unnecessary columns "
   ]
  },
  {
   "cell_type": "code",
   "execution_count": 11,
   "metadata": {
    "collapsed": false
   },
   "outputs": [],
   "source": [
    "cols = ['date_crawled', 'name', 'price', \n",
    "        'abtest', 'vehicle_type', 'registration_year',\n",
    "        'gear_box', 'powerps', 'model',\n",
    "        'odometer_km', 'registration_month', 'fuel_type',\n",
    "        'brand', 'unrepaired_damage', 'ad_created',\n",
    "        'postal_code', 'last_seen']\n",
    "autos = autos[cols]"
   ]
  },
  {
   "cell_type": "code",
   "execution_count": 12,
   "metadata": {
    "collapsed": false
   },
   "outputs": [
    {
     "data": {
      "text/html": [
       "<div>\n",
       "<style scoped>\n",
       "    .dataframe tbody tr th:only-of-type {\n",
       "        vertical-align: middle;\n",
       "    }\n",
       "\n",
       "    .dataframe tbody tr th {\n",
       "        vertical-align: top;\n",
       "    }\n",
       "\n",
       "    .dataframe thead th {\n",
       "        text-align: right;\n",
       "    }\n",
       "</style>\n",
       "<table border=\"1\" class=\"dataframe\">\n",
       "  <thead>\n",
       "    <tr style=\"text-align: right;\">\n",
       "      <th></th>\n",
       "      <th>date_crawled</th>\n",
       "      <th>name</th>\n",
       "      <th>price</th>\n",
       "      <th>abtest</th>\n",
       "      <th>vehicle_type</th>\n",
       "      <th>registration_year</th>\n",
       "      <th>gear_box</th>\n",
       "      <th>powerps</th>\n",
       "      <th>model</th>\n",
       "      <th>odometer_km</th>\n",
       "      <th>registration_month</th>\n",
       "      <th>fuel_type</th>\n",
       "      <th>brand</th>\n",
       "      <th>unrepaired_damage</th>\n",
       "      <th>ad_created</th>\n",
       "      <th>postal_code</th>\n",
       "      <th>last_seen</th>\n",
       "    </tr>\n",
       "  </thead>\n",
       "  <tbody>\n",
       "    <tr>\n",
       "      <th>count</th>\n",
       "      <td>50000</td>\n",
       "      <td>50000</td>\n",
       "      <td>5.000000e+04</td>\n",
       "      <td>50000</td>\n",
       "      <td>44905</td>\n",
       "      <td>50000.000000</td>\n",
       "      <td>47320</td>\n",
       "      <td>50000.000000</td>\n",
       "      <td>47242</td>\n",
       "      <td>50000.000000</td>\n",
       "      <td>50000.000000</td>\n",
       "      <td>45518</td>\n",
       "      <td>50000</td>\n",
       "      <td>40171</td>\n",
       "      <td>50000</td>\n",
       "      <td>50000.000000</td>\n",
       "      <td>50000</td>\n",
       "    </tr>\n",
       "    <tr>\n",
       "      <th>unique</th>\n",
       "      <td>48213</td>\n",
       "      <td>38754</td>\n",
       "      <td>NaN</td>\n",
       "      <td>2</td>\n",
       "      <td>8</td>\n",
       "      <td>NaN</td>\n",
       "      <td>2</td>\n",
       "      <td>NaN</td>\n",
       "      <td>245</td>\n",
       "      <td>NaN</td>\n",
       "      <td>NaN</td>\n",
       "      <td>7</td>\n",
       "      <td>40</td>\n",
       "      <td>2</td>\n",
       "      <td>76</td>\n",
       "      <td>NaN</td>\n",
       "      <td>39481</td>\n",
       "    </tr>\n",
       "    <tr>\n",
       "      <th>top</th>\n",
       "      <td>2016-03-16 21:50:53</td>\n",
       "      <td>Ford_Fiesta</td>\n",
       "      <td>NaN</td>\n",
       "      <td>test</td>\n",
       "      <td>limousine</td>\n",
       "      <td>NaN</td>\n",
       "      <td>manuell</td>\n",
       "      <td>NaN</td>\n",
       "      <td>golf</td>\n",
       "      <td>NaN</td>\n",
       "      <td>NaN</td>\n",
       "      <td>benzin</td>\n",
       "      <td>volkswagen</td>\n",
       "      <td>nein</td>\n",
       "      <td>2016-04-03 00:00:00</td>\n",
       "      <td>NaN</td>\n",
       "      <td>2016-04-07 06:17:27</td>\n",
       "    </tr>\n",
       "    <tr>\n",
       "      <th>freq</th>\n",
       "      <td>3</td>\n",
       "      <td>78</td>\n",
       "      <td>NaN</td>\n",
       "      <td>25756</td>\n",
       "      <td>12859</td>\n",
       "      <td>NaN</td>\n",
       "      <td>36993</td>\n",
       "      <td>NaN</td>\n",
       "      <td>4024</td>\n",
       "      <td>NaN</td>\n",
       "      <td>NaN</td>\n",
       "      <td>30107</td>\n",
       "      <td>10687</td>\n",
       "      <td>35232</td>\n",
       "      <td>1946</td>\n",
       "      <td>NaN</td>\n",
       "      <td>8</td>\n",
       "    </tr>\n",
       "    <tr>\n",
       "      <th>mean</th>\n",
       "      <td>NaN</td>\n",
       "      <td>NaN</td>\n",
       "      <td>9.840044e+03</td>\n",
       "      <td>NaN</td>\n",
       "      <td>NaN</td>\n",
       "      <td>2005.073280</td>\n",
       "      <td>NaN</td>\n",
       "      <td>116.355920</td>\n",
       "      <td>NaN</td>\n",
       "      <td>125732.700000</td>\n",
       "      <td>5.723360</td>\n",
       "      <td>NaN</td>\n",
       "      <td>NaN</td>\n",
       "      <td>NaN</td>\n",
       "      <td>NaN</td>\n",
       "      <td>50813.627300</td>\n",
       "      <td>NaN</td>\n",
       "    </tr>\n",
       "    <tr>\n",
       "      <th>std</th>\n",
       "      <td>NaN</td>\n",
       "      <td>NaN</td>\n",
       "      <td>4.811044e+05</td>\n",
       "      <td>NaN</td>\n",
       "      <td>NaN</td>\n",
       "      <td>105.712813</td>\n",
       "      <td>NaN</td>\n",
       "      <td>209.216627</td>\n",
       "      <td>NaN</td>\n",
       "      <td>40042.211706</td>\n",
       "      <td>3.711984</td>\n",
       "      <td>NaN</td>\n",
       "      <td>NaN</td>\n",
       "      <td>NaN</td>\n",
       "      <td>NaN</td>\n",
       "      <td>25779.747957</td>\n",
       "      <td>NaN</td>\n",
       "    </tr>\n",
       "    <tr>\n",
       "      <th>min</th>\n",
       "      <td>NaN</td>\n",
       "      <td>NaN</td>\n",
       "      <td>0.000000e+00</td>\n",
       "      <td>NaN</td>\n",
       "      <td>NaN</td>\n",
       "      <td>1000.000000</td>\n",
       "      <td>NaN</td>\n",
       "      <td>0.000000</td>\n",
       "      <td>NaN</td>\n",
       "      <td>5000.000000</td>\n",
       "      <td>0.000000</td>\n",
       "      <td>NaN</td>\n",
       "      <td>NaN</td>\n",
       "      <td>NaN</td>\n",
       "      <td>NaN</td>\n",
       "      <td>1067.000000</td>\n",
       "      <td>NaN</td>\n",
       "    </tr>\n",
       "    <tr>\n",
       "      <th>25%</th>\n",
       "      <td>NaN</td>\n",
       "      <td>NaN</td>\n",
       "      <td>1.100000e+03</td>\n",
       "      <td>NaN</td>\n",
       "      <td>NaN</td>\n",
       "      <td>1999.000000</td>\n",
       "      <td>NaN</td>\n",
       "      <td>70.000000</td>\n",
       "      <td>NaN</td>\n",
       "      <td>125000.000000</td>\n",
       "      <td>3.000000</td>\n",
       "      <td>NaN</td>\n",
       "      <td>NaN</td>\n",
       "      <td>NaN</td>\n",
       "      <td>NaN</td>\n",
       "      <td>30451.000000</td>\n",
       "      <td>NaN</td>\n",
       "    </tr>\n",
       "    <tr>\n",
       "      <th>50%</th>\n",
       "      <td>NaN</td>\n",
       "      <td>NaN</td>\n",
       "      <td>2.950000e+03</td>\n",
       "      <td>NaN</td>\n",
       "      <td>NaN</td>\n",
       "      <td>2003.000000</td>\n",
       "      <td>NaN</td>\n",
       "      <td>105.000000</td>\n",
       "      <td>NaN</td>\n",
       "      <td>150000.000000</td>\n",
       "      <td>6.000000</td>\n",
       "      <td>NaN</td>\n",
       "      <td>NaN</td>\n",
       "      <td>NaN</td>\n",
       "      <td>NaN</td>\n",
       "      <td>49577.000000</td>\n",
       "      <td>NaN</td>\n",
       "    </tr>\n",
       "    <tr>\n",
       "      <th>75%</th>\n",
       "      <td>NaN</td>\n",
       "      <td>NaN</td>\n",
       "      <td>7.200000e+03</td>\n",
       "      <td>NaN</td>\n",
       "      <td>NaN</td>\n",
       "      <td>2008.000000</td>\n",
       "      <td>NaN</td>\n",
       "      <td>150.000000</td>\n",
       "      <td>NaN</td>\n",
       "      <td>150000.000000</td>\n",
       "      <td>9.000000</td>\n",
       "      <td>NaN</td>\n",
       "      <td>NaN</td>\n",
       "      <td>NaN</td>\n",
       "      <td>NaN</td>\n",
       "      <td>71540.000000</td>\n",
       "      <td>NaN</td>\n",
       "    </tr>\n",
       "    <tr>\n",
       "      <th>max</th>\n",
       "      <td>NaN</td>\n",
       "      <td>NaN</td>\n",
       "      <td>1.000000e+08</td>\n",
       "      <td>NaN</td>\n",
       "      <td>NaN</td>\n",
       "      <td>9999.000000</td>\n",
       "      <td>NaN</td>\n",
       "      <td>17700.000000</td>\n",
       "      <td>NaN</td>\n",
       "      <td>150000.000000</td>\n",
       "      <td>12.000000</td>\n",
       "      <td>NaN</td>\n",
       "      <td>NaN</td>\n",
       "      <td>NaN</td>\n",
       "      <td>NaN</td>\n",
       "      <td>99998.000000</td>\n",
       "      <td>NaN</td>\n",
       "    </tr>\n",
       "  </tbody>\n",
       "</table>\n",
       "</div>"
      ],
      "text/plain": [
       "               date_crawled         name         price abtest vehicle_type  \\\n",
       "count                 50000        50000  5.000000e+04  50000        44905   \n",
       "unique                48213        38754           NaN      2            8   \n",
       "top     2016-03-16 21:50:53  Ford_Fiesta           NaN   test    limousine   \n",
       "freq                      3           78           NaN  25756        12859   \n",
       "mean                    NaN          NaN  9.840044e+03    NaN          NaN   \n",
       "std                     NaN          NaN  4.811044e+05    NaN          NaN   \n",
       "min                     NaN          NaN  0.000000e+00    NaN          NaN   \n",
       "25%                     NaN          NaN  1.100000e+03    NaN          NaN   \n",
       "50%                     NaN          NaN  2.950000e+03    NaN          NaN   \n",
       "75%                     NaN          NaN  7.200000e+03    NaN          NaN   \n",
       "max                     NaN          NaN  1.000000e+08    NaN          NaN   \n",
       "\n",
       "        registration_year gear_box       powerps  model    odometer_km  \\\n",
       "count        50000.000000    47320  50000.000000  47242   50000.000000   \n",
       "unique                NaN        2           NaN    245            NaN   \n",
       "top                   NaN  manuell           NaN   golf            NaN   \n",
       "freq                  NaN    36993           NaN   4024            NaN   \n",
       "mean          2005.073280      NaN    116.355920    NaN  125732.700000   \n",
       "std            105.712813      NaN    209.216627    NaN   40042.211706   \n",
       "min           1000.000000      NaN      0.000000    NaN    5000.000000   \n",
       "25%           1999.000000      NaN     70.000000    NaN  125000.000000   \n",
       "50%           2003.000000      NaN    105.000000    NaN  150000.000000   \n",
       "75%           2008.000000      NaN    150.000000    NaN  150000.000000   \n",
       "max           9999.000000      NaN  17700.000000    NaN  150000.000000   \n",
       "\n",
       "        registration_month fuel_type       brand unrepaired_damage  \\\n",
       "count         50000.000000     45518       50000             40171   \n",
       "unique                 NaN         7          40                 2   \n",
       "top                    NaN    benzin  volkswagen              nein   \n",
       "freq                   NaN     30107       10687             35232   \n",
       "mean              5.723360       NaN         NaN               NaN   \n",
       "std               3.711984       NaN         NaN               NaN   \n",
       "min               0.000000       NaN         NaN               NaN   \n",
       "25%               3.000000       NaN         NaN               NaN   \n",
       "50%               6.000000       NaN         NaN               NaN   \n",
       "75%               9.000000       NaN         NaN               NaN   \n",
       "max              12.000000       NaN         NaN               NaN   \n",
       "\n",
       "                 ad_created   postal_code            last_seen  \n",
       "count                 50000  50000.000000                50000  \n",
       "unique                   76           NaN                39481  \n",
       "top     2016-04-03 00:00:00           NaN  2016-04-07 06:17:27  \n",
       "freq                   1946           NaN                    8  \n",
       "mean                    NaN  50813.627300                  NaN  \n",
       "std                     NaN  25779.747957                  NaN  \n",
       "min                     NaN   1067.000000                  NaN  \n",
       "25%                     NaN  30451.000000                  NaN  \n",
       "50%                     NaN  49577.000000                  NaN  \n",
       "75%                     NaN  71540.000000                  NaN  \n",
       "max                     NaN  99998.000000                  NaN  "
      ]
     },
     "execution_count": 12,
     "metadata": {},
     "output_type": "execute_result"
    }
   ],
   "source": [
    "autos.head()\n",
    "autos.describe(include = 'all')"
   ]
  },
  {
   "cell_type": "markdown",
   "metadata": {},
   "source": [
    "## Examining powerps\n",
    "\n",
    "There is no way that horse power can be 17700. So we need to find out what's up."
   ]
  },
  {
   "cell_type": "code",
   "execution_count": 13,
   "metadata": {
    "collapsed": false
   },
   "outputs": [
    {
     "data": {
      "text/plain": [
       "17700    1\n",
       "16312    1\n",
       "16011    1\n",
       "15016    1\n",
       "15001    1\n",
       "14009    1\n",
       "9011     1\n",
       "8404     1\n",
       "7511     1\n",
       "6512     1\n",
       "6226     1\n",
       "6045     1\n",
       "5867     1\n",
       "4400     1\n",
       "3750     1\n",
       "3500     1\n",
       "2729     1\n",
       "2018     1\n",
       "1998     2\n",
       "1988     1\n",
       "1986     1\n",
       "1800     3\n",
       "1796     1\n",
       "1793     1\n",
       "1781     1\n",
       "1780     1\n",
       "1779     1\n",
       "1771     1\n",
       "1753     1\n",
       "1704     1\n",
       "1405     1\n",
       "1401     1\n",
       "1400     3\n",
       "1398     1\n",
       "1367     1\n",
       "1300     1\n",
       "1202     1\n",
       "1103     1\n",
       "1090     1\n",
       "1082     1\n",
       "1056     1\n",
       "1055     1\n",
       "1016     1\n",
       "1011     1\n",
       "1003     1\n",
       "1001     3\n",
       "1000     1\n",
       "999      1\n",
       "952      1\n",
       "950      1\n",
       "Name: powerps, dtype: int64"
      ]
     },
     "execution_count": 13,
     "metadata": {},
     "output_type": "execute_result"
    }
   ],
   "source": [
    "autos['powerps'].value_counts().sort_index(ascending = False).head(50)"
   ]
  },
  {
   "cell_type": "code",
   "execution_count": 14,
   "metadata": {
    "collapsed": false
   },
   "outputs": [
    {
     "data": {
      "text/plain": [
       "0     5500\n",
       "1        5\n",
       "2        2\n",
       "3        3\n",
       "4        4\n",
       "5       13\n",
       "6        3\n",
       "8        2\n",
       "9        1\n",
       "10       3\n",
       "11       4\n",
       "12       1\n",
       "14       1\n",
       "15       5\n",
       "16       1\n",
       "18       6\n",
       "19       3\n",
       "20       4\n",
       "21       1\n",
       "23       4\n",
       "24       1\n",
       "25       2\n",
       "26      39\n",
       "27       5\n",
       "29       5\n",
       "30       3\n",
       "32       2\n",
       "33       9\n",
       "34      27\n",
       "35       2\n",
       "37       7\n",
       "38       2\n",
       "39      18\n",
       "40      42\n",
       "41      57\n",
       "42       7\n",
       "43      20\n",
       "44      52\n",
       "45     397\n",
       "46       9\n",
       "47       8\n",
       "48      16\n",
       "49       2\n",
       "50     604\n",
       "51      14\n",
       "52      40\n",
       "53      28\n",
       "54     759\n",
       "55     275\n",
       "56      40\n",
       "Name: powerps, dtype: int64"
      ]
     },
     "execution_count": 14,
     "metadata": {},
     "output_type": "execute_result"
    }
   ],
   "source": [
    "autos['powerps'].value_counts().sort_index(ascending = True).head(50)"
   ]
  },
  {
   "cell_type": "markdown",
   "metadata": {},
   "source": [
    "As the Bugatti Cheron was the highest HP production car at approx. 1600, really anything above that is not valid. So we will use this as the top-end cap. Conversely the lowest HP production car is the Renault Twitzy at about 17 hp. Thus we will use this as the bottom-end cap. "
   ]
  },
  {
   "cell_type": "code",
   "execution_count": 15,
   "metadata": {
    "collapsed": false
   },
   "outputs": [
    {
     "data": {
      "text/html": [
       "<div>\n",
       "<style scoped>\n",
       "    .dataframe tbody tr th:only-of-type {\n",
       "        vertical-align: middle;\n",
       "    }\n",
       "\n",
       "    .dataframe tbody tr th {\n",
       "        vertical-align: top;\n",
       "    }\n",
       "\n",
       "    .dataframe thead th {\n",
       "        text-align: right;\n",
       "    }\n",
       "</style>\n",
       "<table border=\"1\" class=\"dataframe\">\n",
       "  <thead>\n",
       "    <tr style=\"text-align: right;\">\n",
       "      <th></th>\n",
       "      <th>price</th>\n",
       "      <th>registration_year</th>\n",
       "      <th>powerps</th>\n",
       "      <th>odometer_km</th>\n",
       "      <th>registration_month</th>\n",
       "      <th>postal_code</th>\n",
       "    </tr>\n",
       "  </thead>\n",
       "  <tbody>\n",
       "    <tr>\n",
       "      <th>count</th>\n",
       "      <td>4.442000e+04</td>\n",
       "      <td>44420.000000</td>\n",
       "      <td>44420.000000</td>\n",
       "      <td>44420.000000</td>\n",
       "      <td>44420.000000</td>\n",
       "      <td>44420.000000</td>\n",
       "    </tr>\n",
       "    <tr>\n",
       "      <th>mean</th>\n",
       "      <td>1.045555e+04</td>\n",
       "      <td>2004.047726</td>\n",
       "      <td>126.743134</td>\n",
       "      <td>125794.236830</td>\n",
       "      <td>5.930752</td>\n",
       "      <td>51368.900698</td>\n",
       "    </tr>\n",
       "    <tr>\n",
       "      <th>std</th>\n",
       "      <td>5.076550e+05</td>\n",
       "      <td>53.063904</td>\n",
       "      <td>67.302685</td>\n",
       "      <td>39267.227509</td>\n",
       "      <td>3.602153</td>\n",
       "      <td>25754.846000</td>\n",
       "    </tr>\n",
       "    <tr>\n",
       "      <th>min</th>\n",
       "      <td>0.000000e+00</td>\n",
       "      <td>1927.000000</td>\n",
       "      <td>16.000000</td>\n",
       "      <td>5000.000000</td>\n",
       "      <td>0.000000</td>\n",
       "      <td>1067.000000</td>\n",
       "    </tr>\n",
       "    <tr>\n",
       "      <th>25%</th>\n",
       "      <td>1.299000e+03</td>\n",
       "      <td>1999.000000</td>\n",
       "      <td>80.000000</td>\n",
       "      <td>100000.000000</td>\n",
       "      <td>3.000000</td>\n",
       "      <td>31028.000000</td>\n",
       "    </tr>\n",
       "    <tr>\n",
       "      <th>50%</th>\n",
       "      <td>3.299000e+03</td>\n",
       "      <td>2004.000000</td>\n",
       "      <td>116.000000</td>\n",
       "      <td>150000.000000</td>\n",
       "      <td>6.000000</td>\n",
       "      <td>50354.000000</td>\n",
       "    </tr>\n",
       "    <tr>\n",
       "      <th>75%</th>\n",
       "      <td>7.800000e+03</td>\n",
       "      <td>2008.000000</td>\n",
       "      <td>150.000000</td>\n",
       "      <td>150000.000000</td>\n",
       "      <td>9.000000</td>\n",
       "      <td>72250.000000</td>\n",
       "    </tr>\n",
       "    <tr>\n",
       "      <th>max</th>\n",
       "      <td>1.000000e+08</td>\n",
       "      <td>9000.000000</td>\n",
       "      <td>1405.000000</td>\n",
       "      <td>150000.000000</td>\n",
       "      <td>12.000000</td>\n",
       "      <td>99998.000000</td>\n",
       "    </tr>\n",
       "  </tbody>\n",
       "</table>\n",
       "</div>"
      ],
      "text/plain": [
       "              price  registration_year       powerps    odometer_km  \\\n",
       "count  4.442000e+04       44420.000000  44420.000000   44420.000000   \n",
       "mean   1.045555e+04        2004.047726    126.743134  125794.236830   \n",
       "std    5.076550e+05          53.063904     67.302685   39267.227509   \n",
       "min    0.000000e+00        1927.000000     16.000000    5000.000000   \n",
       "25%    1.299000e+03        1999.000000     80.000000  100000.000000   \n",
       "50%    3.299000e+03        2004.000000    116.000000  150000.000000   \n",
       "75%    7.800000e+03        2008.000000    150.000000  150000.000000   \n",
       "max    1.000000e+08        9000.000000   1405.000000  150000.000000   \n",
       "\n",
       "       registration_month   postal_code  \n",
       "count        44420.000000  44420.000000  \n",
       "mean             5.930752  51368.900698  \n",
       "std              3.602153  25754.846000  \n",
       "min              0.000000   1067.000000  \n",
       "25%              3.000000  31028.000000  \n",
       "50%              6.000000  50354.000000  \n",
       "75%              9.000000  72250.000000  \n",
       "max             12.000000  99998.000000  "
      ]
     },
     "execution_count": 15,
     "metadata": {},
     "output_type": "execute_result"
    }
   ],
   "source": [
    "autos =  autos[autos['powerps'].between(16, 1600)]\n",
    "autos.describe()"
   ]
  },
  {
   "cell_type": "code",
   "execution_count": 16,
   "metadata": {
    "collapsed": false
   },
   "outputs": [
    {
     "data": {
      "text/plain": [
       "1405      1\n",
       "1401      1\n",
       "1400      3\n",
       "1398      1\n",
       "1367      1\n",
       "1300      1\n",
       "1202      1\n",
       "1103      1\n",
       "1090      1\n",
       "1082      1\n",
       "1056      1\n",
       "1055      1\n",
       "1016      1\n",
       "1011      1\n",
       "1003      1\n",
       "1001      3\n",
       "1000      1\n",
       "999       1\n",
       "952       1\n",
       "950       1\n",
       "923       1\n",
       "900       3\n",
       "850       1\n",
       "800       1\n",
       "799       1\n",
       "754       1\n",
       "740       1\n",
       "696       1\n",
       "682       1\n",
       "678       1\n",
       "       ... \n",
       "50      604\n",
       "49        2\n",
       "48       16\n",
       "47        8\n",
       "46        9\n",
       "45      397\n",
       "44       52\n",
       "43       20\n",
       "42        7\n",
       "41       57\n",
       "40       42\n",
       "39       18\n",
       "38        2\n",
       "37        7\n",
       "35        2\n",
       "34       27\n",
       "33        9\n",
       "32        2\n",
       "30        3\n",
       "29        5\n",
       "27        5\n",
       "26       39\n",
       "25        2\n",
       "24        1\n",
       "23        4\n",
       "21        1\n",
       "20        4\n",
       "19        3\n",
       "18        6\n",
       "16        1\n",
       "Name: powerps, Length: 404, dtype: int64"
      ]
     },
     "execution_count": 16,
     "metadata": {},
     "output_type": "execute_result"
    }
   ],
   "source": [
    "autos['powerps'].value_counts().sort_index(ascending = False)"
   ]
  },
  {
   "cell_type": "markdown",
   "metadata": {},
   "source": [
    "## Examining Price"
   ]
  },
  {
   "cell_type": "code",
   "execution_count": 17,
   "metadata": {
    "collapsed": false
   },
   "outputs": [
    {
     "data": {
      "text/plain": [
       "44420"
      ]
     },
     "execution_count": 17,
     "metadata": {},
     "output_type": "execute_result"
    }
   ],
   "source": [
    "autos['price'].shape[0]"
   ]
  },
  {
   "cell_type": "code",
   "execution_count": 18,
   "metadata": {
    "collapsed": false
   },
   "outputs": [
    {
     "data": {
      "text/plain": [
       "count    4.442000e+04\n",
       "mean     1.045555e+04\n",
       "std      5.076550e+05\n",
       "min      0.000000e+00\n",
       "25%      1.299000e+03\n",
       "50%      3.299000e+03\n",
       "75%      7.800000e+03\n",
       "max      1.000000e+08\n",
       "Name: price, dtype: float64"
      ]
     },
     "execution_count": 18,
     "metadata": {},
     "output_type": "execute_result"
    }
   ],
   "source": [
    "autos['price'].describe()"
   ]
  },
  {
   "cell_type": "code",
   "execution_count": 19,
   "metadata": {
    "collapsed": false
   },
   "outputs": [
    {
     "data": {
      "text/plain": [
       "99999999.0    1\n",
       "27322222.0    1\n",
       "12345678.0    3\n",
       "11111111.0    1\n",
       "10000000.0    1\n",
       "3890000.0     1\n",
       "1234566.0     1\n",
       "999999.0      2\n",
       "999990.0      1\n",
       "350000.0      1\n",
       "Name: price, dtype: int64"
      ]
     },
     "execution_count": 19,
     "metadata": {},
     "output_type": "execute_result"
    }
   ],
   "source": [
    "autos['price'].value_counts().sort_index(ascending = False).head(10)"
   ]
  },
  {
   "cell_type": "code",
   "execution_count": 20,
   "metadata": {
    "collapsed": false
   },
   "outputs": [
    {
     "data": {
      "text/plain": [
       "30.0      1\n",
       "25.0      1\n",
       "20.0      1\n",
       "13.0      1\n",
       "11.0      1\n",
       "10.0      2\n",
       "5.0       1\n",
       "3.0       1\n",
       "1.0      89\n",
       "0.0     907\n",
       "Name: price, dtype: int64"
      ]
     },
     "execution_count": 20,
     "metadata": {},
     "output_type": "execute_result"
    }
   ],
   "source": [
    "autos['price'].value_counts().sort_index(ascending = False).tail(10)"
   ]
  },
  {
   "cell_type": "code",
   "execution_count": 21,
   "metadata": {
    "collapsed": false
   },
   "outputs": [
    {
     "name": "stdout",
     "output_type": "stream",
     "text": [
      "1072\n",
      "12\n",
      "44420\n"
     ]
    }
   ],
   "source": [
    "print(len(autos[autos['price'] < 100]))\n",
    "print(len(autos[autos['price'] > 500000]))\n",
    "print(len(autos))"
   ]
  },
  {
   "cell_type": "markdown",
   "metadata": {},
   "source": [
    "Of the 50K datapoints in this dataset, 1762 datapoints list price of car as less than **100 dollars** whilst 11 list the price of the car as greater than **500,000 dollars**. Considering both the unlikelihood of purchasing a car within these extremes and its make up of the total data point to be less than 5% (i.e. can remove without affecting the integrity of the data), we will use this as our liimts. "
   ]
  },
  {
   "cell_type": "code",
   "execution_count": 22,
   "metadata": {
    "collapsed": false
   },
   "outputs": [
    {
     "data": {
      "text/plain": [
       "100.0        77\n",
       "110.0         1\n",
       "111.0         1\n",
       "115.0         1\n",
       "117.0         1\n",
       "120.0        18\n",
       "125.0         4\n",
       "130.0         8\n",
       "135.0         1\n",
       "139.0         1\n",
       "140.0         7\n",
       "145.0         2\n",
       "149.0         6\n",
       "150.0       148\n",
       "156.0         1\n",
       "160.0         7\n",
       "170.0         2\n",
       "173.0         1\n",
       "175.0         9\n",
       "179.0         1\n",
       "180.0        24\n",
       "185.0         1\n",
       "188.0         1\n",
       "190.0        13\n",
       "193.0         1\n",
       "195.0         2\n",
       "199.0        27\n",
       "200.0       192\n",
       "210.0         1\n",
       "215.0         1\n",
       "           ... \n",
       "115000.0      1\n",
       "115991.0      1\n",
       "116000.0      1\n",
       "119500.0      1\n",
       "119900.0      1\n",
       "120000.0      2\n",
       "128000.0      1\n",
       "129000.0      1\n",
       "135000.0      1\n",
       "137999.0      1\n",
       "139997.0      1\n",
       "145000.0      1\n",
       "151990.0      1\n",
       "155000.0      1\n",
       "163500.0      1\n",
       "163991.0      1\n",
       "169000.0      1\n",
       "169999.0      1\n",
       "175000.0      1\n",
       "180000.0      1\n",
       "190000.0      1\n",
       "197000.0      1\n",
       "198000.0      1\n",
       "220000.0      1\n",
       "259000.0      1\n",
       "265000.0      1\n",
       "295000.0      1\n",
       "299000.0      1\n",
       "345000.0      1\n",
       "350000.0      1\n",
       "Name: price, Length: 2260, dtype: int64"
      ]
     },
     "execution_count": 22,
     "metadata": {},
     "output_type": "execute_result"
    }
   ],
   "source": [
    "autos =  autos[autos['price'].between(100, 500000)]\n",
    "autos['price'].value_counts().sort_index()"
   ]
  },
  {
   "cell_type": "markdown",
   "metadata": {},
   "source": [
    "## Examining Odometer_km"
   ]
  },
  {
   "cell_type": "code",
   "execution_count": 23,
   "metadata": {
    "collapsed": false
   },
   "outputs": [
    {
     "data": {
      "text/plain": [
       "array([150000,  70000,  50000,  80000,  10000,  30000, 125000,  90000,\n",
       "        20000,  60000, 100000,   5000,  40000])"
      ]
     },
     "execution_count": 23,
     "metadata": {},
     "output_type": "execute_result"
    }
   ],
   "source": [
    "autos['odometer_km'].unique()"
   ]
  },
  {
   "cell_type": "code",
   "execution_count": 24,
   "metadata": {
    "collapsed": false
   },
   "outputs": [
    {
     "data": {
      "text/plain": [
       "count     43336.000000\n",
       "mean     125625.230755\n",
       "std       39265.241462\n",
       "min        5000.000000\n",
       "25%      100000.000000\n",
       "50%      150000.000000\n",
       "75%      150000.000000\n",
       "max      150000.000000\n",
       "Name: odometer_km, dtype: float64"
      ]
     },
     "execution_count": 24,
     "metadata": {},
     "output_type": "execute_result"
    }
   ],
   "source": [
    "autos['odometer_km'].describe()"
   ]
  },
  {
   "cell_type": "code",
   "execution_count": 25,
   "metadata": {
    "collapsed": false
   },
   "outputs": [
    {
     "data": {
      "text/plain": [
       "150000    27696\n",
       "125000     4657\n",
       "100000     1922\n",
       "90000      1594\n",
       "80000      1325\n",
       "70000      1145\n",
       "60000      1101\n",
       "50000       964\n",
       "40000       772\n",
       "30000       731\n",
       "20000       698\n",
       "10000       215\n",
       "5000        516\n",
       "Name: odometer_km, dtype: int64"
      ]
     },
     "execution_count": 25,
     "metadata": {},
     "output_type": "execute_result"
    }
   ],
   "source": [
    "autos['odometer_km'].value_counts().sort_index(ascending = False)"
   ]
  },
  {
   "cell_type": "markdown",
   "metadata": {},
   "source": [
    "Considering the nature of the items as used cars, which are likely to have a very high mileage, it would be expected that there would be a large number of vehicles with extraordinarily high mileage and few vehicles with low mileage. As such, we will not be modifying the vehicle in terms of odometer."
   ]
  },
  {
   "cell_type": "markdown",
   "metadata": {},
   "source": [
    "## Exploring Date Columns"
   ]
  },
  {
   "cell_type": "code",
   "execution_count": 26,
   "metadata": {
    "collapsed": false
   },
   "outputs": [
    {
     "data": {
      "text/html": [
       "<div>\n",
       "<style scoped>\n",
       "    .dataframe tbody tr th:only-of-type {\n",
       "        vertical-align: middle;\n",
       "    }\n",
       "\n",
       "    .dataframe tbody tr th {\n",
       "        vertical-align: top;\n",
       "    }\n",
       "\n",
       "    .dataframe thead th {\n",
       "        text-align: right;\n",
       "    }\n",
       "</style>\n",
       "<table border=\"1\" class=\"dataframe\">\n",
       "  <thead>\n",
       "    <tr style=\"text-align: right;\">\n",
       "      <th></th>\n",
       "      <th>date_crawled</th>\n",
       "      <th>ad_created</th>\n",
       "      <th>last_seen</th>\n",
       "    </tr>\n",
       "  </thead>\n",
       "  <tbody>\n",
       "    <tr>\n",
       "      <th>0</th>\n",
       "      <td>2016-03-26 17:47:46</td>\n",
       "      <td>2016-03-26 00:00:00</td>\n",
       "      <td>2016-04-06 06:45:54</td>\n",
       "    </tr>\n",
       "    <tr>\n",
       "      <th>1</th>\n",
       "      <td>2016-04-04 13:38:56</td>\n",
       "      <td>2016-04-04 00:00:00</td>\n",
       "      <td>2016-04-06 14:45:08</td>\n",
       "    </tr>\n",
       "    <tr>\n",
       "      <th>2</th>\n",
       "      <td>2016-03-26 18:57:24</td>\n",
       "      <td>2016-03-26 00:00:00</td>\n",
       "      <td>2016-04-06 20:15:37</td>\n",
       "    </tr>\n",
       "    <tr>\n",
       "      <th>3</th>\n",
       "      <td>2016-03-12 16:58:10</td>\n",
       "      <td>2016-03-12 00:00:00</td>\n",
       "      <td>2016-03-15 03:16:28</td>\n",
       "    </tr>\n",
       "    <tr>\n",
       "      <th>5</th>\n",
       "      <td>2016-03-21 13:47:45</td>\n",
       "      <td>2016-03-21 00:00:00</td>\n",
       "      <td>2016-04-06 09:45:21</td>\n",
       "    </tr>\n",
       "  </tbody>\n",
       "</table>\n",
       "</div>"
      ],
      "text/plain": [
       "          date_crawled           ad_created            last_seen\n",
       "0  2016-03-26 17:47:46  2016-03-26 00:00:00  2016-04-06 06:45:54\n",
       "1  2016-04-04 13:38:56  2016-04-04 00:00:00  2016-04-06 14:45:08\n",
       "2  2016-03-26 18:57:24  2016-03-26 00:00:00  2016-04-06 20:15:37\n",
       "3  2016-03-12 16:58:10  2016-03-12 00:00:00  2016-03-15 03:16:28\n",
       "5  2016-03-21 13:47:45  2016-03-21 00:00:00  2016-04-06 09:45:21"
      ]
     },
     "execution_count": 26,
     "metadata": {},
     "output_type": "execute_result"
    }
   ],
   "source": [
    "# date_crawled + ad_created + last_seen\n",
    "\n",
    "autos[['date_crawled','ad_created','last_seen']].head()\n",
    "# the format is %YYYY-%mm-%dd (essentially 10 strings)"
   ]
  },
  {
   "cell_type": "code",
   "execution_count": 27,
   "metadata": {
    "collapsed": true
   },
   "outputs": [],
   "source": [
    "autos['date_crawled'] = autos['date_crawled'].str[:10]"
   ]
  },
  {
   "cell_type": "code",
   "execution_count": 28,
   "metadata": {
    "collapsed": true
   },
   "outputs": [],
   "source": [
    "autos['ad_created'] = autos['ad_created'].str[:10]\n",
    "autos['last_seen'] = autos['last_seen'].str[:10]"
   ]
  },
  {
   "cell_type": "code",
   "execution_count": 29,
   "metadata": {
    "collapsed": false
   },
   "outputs": [
    {
     "data": {
      "text/plain": [
       "2016-04-07    0.00\n",
       "2016-04-06    0.00\n",
       "2016-04-05    0.01\n",
       "2016-04-04    0.04\n",
       "2016-04-03    0.04\n",
       "2016-04-02    0.04\n",
       "2016-04-01    0.03\n",
       "2016-03-31    0.03\n",
       "2016-03-30    0.03\n",
       "2016-03-29    0.03\n",
       "2016-03-28    0.04\n",
       "2016-03-27    0.03\n",
       "2016-03-26    0.03\n",
       "2016-03-25    0.03\n",
       "2016-03-24    0.03\n",
       "2016-03-23    0.03\n",
       "2016-03-22    0.03\n",
       "2016-03-21    0.04\n",
       "2016-03-20    0.04\n",
       "2016-03-19    0.03\n",
       "2016-03-18    0.01\n",
       "2016-03-17    0.03\n",
       "2016-03-16    0.03\n",
       "2016-03-15    0.03\n",
       "2016-03-14    0.04\n",
       "2016-03-13    0.02\n",
       "2016-03-12    0.04\n",
       "2016-03-11    0.03\n",
       "2016-03-10    0.03\n",
       "2016-03-09    0.03\n",
       "2016-03-08    0.03\n",
       "2016-03-07    0.04\n",
       "2016-03-06    0.01\n",
       "2016-03-05    0.03\n",
       "Name: date_crawled, dtype: float64"
      ]
     },
     "execution_count": 29,
     "metadata": {},
     "output_type": "execute_result"
    }
   ],
   "source": [
    "# Counting date_crawled\n",
    "\n",
    "autos['date_crawled'].value_counts(normalize = True, dropna =  False).sort_index(ascending = False).round(2)"
   ]
  },
  {
   "cell_type": "markdown",
   "metadata": {},
   "source": [
    "Examining the distribution of date_crawled, which ranged from March 5th, 2016 - April 7th, 2016, there is a rounghly equivalent distribution at approx 3% across the dates in this range when the crawler accessed the ads. "
   ]
  },
  {
   "cell_type": "code",
   "execution_count": 30,
   "metadata": {
    "collapsed": false
   },
   "outputs": [
    {
     "data": {
      "text/plain": [
       "2016-04-07    0.13\n",
       "2016-04-06    0.23\n",
       "2016-04-05    0.13\n",
       "2016-04-04    0.02\n",
       "2016-04-03    0.02\n",
       "2016-04-02    0.03\n",
       "2016-04-01    0.02\n",
       "2016-03-31    0.02\n",
       "2016-03-30    0.02\n",
       "2016-03-29    0.02\n",
       "2016-03-28    0.02\n",
       "2016-03-27    0.02\n",
       "2016-03-26    0.02\n",
       "2016-03-25    0.02\n",
       "2016-03-24    0.02\n",
       "2016-03-23    0.02\n",
       "2016-03-22    0.02\n",
       "2016-03-21    0.02\n",
       "2016-03-20    0.02\n",
       "2016-03-19    0.02\n",
       "2016-03-18    0.01\n",
       "2016-03-17    0.03\n",
       "2016-03-16    0.02\n",
       "2016-03-15    0.02\n",
       "2016-03-14    0.01\n",
       "2016-03-13    0.01\n",
       "2016-03-12    0.02\n",
       "2016-03-11    0.01\n",
       "2016-03-10    0.01\n",
       "2016-03-09    0.01\n",
       "2016-03-08    0.01\n",
       "2016-03-07    0.01\n",
       "2016-03-06    0.00\n",
       "2016-03-05    0.00\n",
       "Name: last_seen, dtype: float64"
      ]
     },
     "execution_count": 30,
     "metadata": {},
     "output_type": "execute_result"
    }
   ],
   "source": [
    "# Counting date_crawled\n",
    "\n",
    "autos['last_seen'].value_counts(normalize = True, dropna =  False).sort_index(ascending = False).round(2)"
   ]
  },
  {
   "cell_type": "markdown",
   "metadata": {},
   "source": [
    "In terms of \"last_seen\" that looked within the range of March 5th, 2016 to April 7th, 2016, there was a noted uptake in when the majority of the ads were last seen (i.e. near April 7th), which could be explained by: (1) the corresponding to the collection period when the dataset was being compiled or (2) this being the prime period to which car sales occur since it's the end of the 1st quarter.  "
   ]
  },
  {
   "cell_type": "code",
   "execution_count": 31,
   "metadata": {
    "collapsed": false
   },
   "outputs": [
    {
     "data": {
      "text/plain": [
       "2016-04-07    0.00\n",
       "2016-04-06    0.00\n",
       "2016-04-05    0.01\n",
       "2016-04-04    0.04\n",
       "2016-04-03    0.04\n",
       "2016-04-02    0.04\n",
       "2016-04-01    0.03\n",
       "2016-03-31    0.03\n",
       "2016-03-30    0.03\n",
       "2016-03-29    0.03\n",
       "2016-03-28    0.04\n",
       "2016-03-27    0.03\n",
       "2016-03-26    0.03\n",
       "2016-03-25    0.03\n",
       "2016-03-24    0.03\n",
       "2016-03-23    0.03\n",
       "2016-03-22    0.03\n",
       "2016-03-21    0.04\n",
       "2016-03-20    0.04\n",
       "2016-03-19    0.03\n",
       "2016-03-18    0.01\n",
       "2016-03-17    0.03\n",
       "2016-03-16    0.03\n",
       "2016-03-15    0.03\n",
       "2016-03-14    0.04\n",
       "2016-03-13    0.02\n",
       "2016-03-12    0.04\n",
       "2016-03-11    0.03\n",
       "2016-03-10    0.03\n",
       "2016-03-09    0.03\n",
       "              ... \n",
       "2016-02-23    0.00\n",
       "2016-02-22    0.00\n",
       "2016-02-21    0.00\n",
       "2016-02-20    0.00\n",
       "2016-02-19    0.00\n",
       "2016-02-18    0.00\n",
       "2016-02-17    0.00\n",
       "2016-02-16    0.00\n",
       "2016-02-14    0.00\n",
       "2016-02-12    0.00\n",
       "2016-02-09    0.00\n",
       "2016-02-08    0.00\n",
       "2016-02-07    0.00\n",
       "2016-02-05    0.00\n",
       "2016-02-02    0.00\n",
       "2016-02-01    0.00\n",
       "2016-01-29    0.00\n",
       "2016-01-27    0.00\n",
       "2016-01-22    0.00\n",
       "2016-01-16    0.00\n",
       "2016-01-14    0.00\n",
       "2016-01-13    0.00\n",
       "2016-01-10    0.00\n",
       "2016-01-07    0.00\n",
       "2016-01-03    0.00\n",
       "2015-12-30    0.00\n",
       "2015-12-05    0.00\n",
       "2015-11-10    0.00\n",
       "2015-09-09    0.00\n",
       "2015-08-10    0.00\n",
       "Name: ad_created, Length: 74, dtype: float64"
      ]
     },
     "execution_count": 31,
     "metadata": {},
     "output_type": "execute_result"
    }
   ],
   "source": [
    "autos['ad_created'].value_counts(normalize = True, dropna =  False).sort_index(ascending = False).round(2)"
   ]
  },
  {
   "cell_type": "markdown",
   "metadata": {},
   "source": [
    "As for \"ad_created\", looking at the range from June 11th, 2015 to April 7th, 2016, the majority of the ads were created in March 2016. "
   ]
  },
  {
   "cell_type": "markdown",
   "metadata": {},
   "source": [
    "# Dealing with Incorrect Registration Year"
   ]
  },
  {
   "cell_type": "code",
   "execution_count": 32,
   "metadata": {
    "collapsed": false
   },
   "outputs": [
    {
     "data": {
      "text/plain": [
       "1927       1\n",
       "1931       1\n",
       "1937       3\n",
       "1941       2\n",
       "1950       1\n",
       "1951       2\n",
       "1954       2\n",
       "1955       1\n",
       "1956       3\n",
       "1957       2\n",
       "1958       2\n",
       "1959       6\n",
       "1960       8\n",
       "1961       4\n",
       "1962       3\n",
       "1963       7\n",
       "1964      10\n",
       "1965      13\n",
       "1966      13\n",
       "1967      18\n",
       "1968      23\n",
       "1969      14\n",
       "1970      19\n",
       "1971      20\n",
       "1972      29\n",
       "1973      16\n",
       "1974      20\n",
       "1975      14\n",
       "1976      16\n",
       "1977      19\n",
       "        ... \n",
       "1994     550\n",
       "1995     999\n",
       "1996    1187\n",
       "1997    1721\n",
       "1998    2084\n",
       "1999    2555\n",
       "2000    2530\n",
       "2001    2405\n",
       "2002    2266\n",
       "2003    2484\n",
       "2004    2487\n",
       "2005    2579\n",
       "2006    2533\n",
       "2007    2145\n",
       "2008    2102\n",
       "2009    1992\n",
       "2010    1540\n",
       "2011    1585\n",
       "2012    1270\n",
       "2013     784\n",
       "2014     642\n",
       "2015     364\n",
       "2016     864\n",
       "2017    1034\n",
       "2018     349\n",
       "2019       2\n",
       "2800       1\n",
       "5000       1\n",
       "5911       1\n",
       "9000       1\n",
       "Name: registration_year, Length: 76, dtype: int64"
      ]
     },
     "execution_count": 32,
     "metadata": {},
     "output_type": "execute_result"
    }
   ],
   "source": [
    "autos['registration_year'].value_counts().sort_index()"
   ]
  },
  {
   "cell_type": "markdown",
   "metadata": {},
   "source": [
    "Seeing as the earliest commercial car was made in 1917, we can just use this as the set minimum. Furthermore, as this dataset only took in data up until April 2017, it doesn't make sense to have registration years after 2017. So the range in registration year we are lookin for is b/t 1917 - 2017. "
   ]
  },
  {
   "cell_type": "code",
   "execution_count": 33,
   "metadata": {
    "collapsed": false
   },
   "outputs": [
    {
     "data": {
      "text/html": [
       "<div>\n",
       "<style scoped>\n",
       "    .dataframe tbody tr th:only-of-type {\n",
       "        vertical-align: middle;\n",
       "    }\n",
       "\n",
       "    .dataframe tbody tr th {\n",
       "        vertical-align: top;\n",
       "    }\n",
       "\n",
       "    .dataframe thead th {\n",
       "        text-align: right;\n",
       "    }\n",
       "</style>\n",
       "<table border=\"1\" class=\"dataframe\">\n",
       "  <thead>\n",
       "    <tr style=\"text-align: right;\">\n",
       "      <th></th>\n",
       "      <th>price</th>\n",
       "      <th>registration_year</th>\n",
       "      <th>powerps</th>\n",
       "      <th>odometer_km</th>\n",
       "      <th>registration_month</th>\n",
       "      <th>postal_code</th>\n",
       "    </tr>\n",
       "  </thead>\n",
       "  <tbody>\n",
       "    <tr>\n",
       "      <th>count</th>\n",
       "      <td>42981.000000</td>\n",
       "      <td>42981.000000</td>\n",
       "      <td>42981.000000</td>\n",
       "      <td>42981.000000</td>\n",
       "      <td>42981.000000</td>\n",
       "      <td>42981.000000</td>\n",
       "    </tr>\n",
       "    <tr>\n",
       "      <th>mean</th>\n",
       "      <td>6264.865964</td>\n",
       "      <td>2003.512180</td>\n",
       "      <td>127.107001</td>\n",
       "      <td>125600.381564</td>\n",
       "      <td>5.967776</td>\n",
       "      <td>51538.376492</td>\n",
       "    </tr>\n",
       "    <tr>\n",
       "      <th>std</th>\n",
       "      <td>9231.082718</td>\n",
       "      <td>7.060427</td>\n",
       "      <td>67.377291</td>\n",
       "      <td>39274.090885</td>\n",
       "      <td>3.583941</td>\n",
       "      <td>25732.257434</td>\n",
       "    </tr>\n",
       "    <tr>\n",
       "      <th>min</th>\n",
       "      <td>100.000000</td>\n",
       "      <td>1927.000000</td>\n",
       "      <td>16.000000</td>\n",
       "      <td>5000.000000</td>\n",
       "      <td>0.000000</td>\n",
       "      <td>1067.000000</td>\n",
       "    </tr>\n",
       "    <tr>\n",
       "      <th>25%</th>\n",
       "      <td>1399.000000</td>\n",
       "      <td>1999.000000</td>\n",
       "      <td>80.000000</td>\n",
       "      <td>100000.000000</td>\n",
       "      <td>3.000000</td>\n",
       "      <td>31177.000000</td>\n",
       "    </tr>\n",
       "    <tr>\n",
       "      <th>50%</th>\n",
       "      <td>3495.000000</td>\n",
       "      <td>2004.000000</td>\n",
       "      <td>116.000000</td>\n",
       "      <td>150000.000000</td>\n",
       "      <td>6.000000</td>\n",
       "      <td>50737.000000</td>\n",
       "    </tr>\n",
       "    <tr>\n",
       "      <th>75%</th>\n",
       "      <td>7950.000000</td>\n",
       "      <td>2008.000000</td>\n",
       "      <td>150.000000</td>\n",
       "      <td>150000.000000</td>\n",
       "      <td>9.000000</td>\n",
       "      <td>72406.000000</td>\n",
       "    </tr>\n",
       "    <tr>\n",
       "      <th>max</th>\n",
       "      <td>350000.000000</td>\n",
       "      <td>2017.000000</td>\n",
       "      <td>1405.000000</td>\n",
       "      <td>150000.000000</td>\n",
       "      <td>12.000000</td>\n",
       "      <td>99998.000000</td>\n",
       "    </tr>\n",
       "  </tbody>\n",
       "</table>\n",
       "</div>"
      ],
      "text/plain": [
       "               price  registration_year       powerps    odometer_km  \\\n",
       "count   42981.000000       42981.000000  42981.000000   42981.000000   \n",
       "mean     6264.865964        2003.512180    127.107001  125600.381564   \n",
       "std      9231.082718           7.060427     67.377291   39274.090885   \n",
       "min       100.000000        1927.000000     16.000000    5000.000000   \n",
       "25%      1399.000000        1999.000000     80.000000  100000.000000   \n",
       "50%      3495.000000        2004.000000    116.000000  150000.000000   \n",
       "75%      7950.000000        2008.000000    150.000000  150000.000000   \n",
       "max    350000.000000        2017.000000   1405.000000  150000.000000   \n",
       "\n",
       "       registration_month   postal_code  \n",
       "count        42981.000000  42981.000000  \n",
       "mean             5.967776  51538.376492  \n",
       "std              3.583941  25732.257434  \n",
       "min              0.000000   1067.000000  \n",
       "25%              3.000000  31177.000000  \n",
       "50%              6.000000  50737.000000  \n",
       "75%              9.000000  72406.000000  \n",
       "max             12.000000  99998.000000  "
      ]
     },
     "execution_count": 33,
     "metadata": {},
     "output_type": "execute_result"
    }
   ],
   "source": [
    "min_bool = autos['registration_year'] > 1917\n",
    "max_bool = autos['registration_year'] < 2018\n",
    "combined = min_bool & max_bool\n",
    "\n",
    "autos = autos[combined]\n",
    "autos.describe()"
   ]
  },
  {
   "cell_type": "markdown",
   "metadata": {},
   "source": [
    "## Exploring Price by Brand"
   ]
  },
  {
   "cell_type": "code",
   "execution_count": 34,
   "metadata": {
    "collapsed": false
   },
   "outputs": [
    {
     "data": {
      "text/plain": [
       "array(['peugeot', 'bmw', 'volkswagen', 'smart', 'chrysler', 'renault',\n",
       "       'audi', 'sonstige_autos', 'opel', 'mazda', 'porsche', 'mini',\n",
       "       'mercedes_benz', 'ford', 'seat', 'toyota', 'dacia', 'nissan',\n",
       "       'jeep', 'saab', 'volvo', 'mitsubishi', 'jaguar', 'fiat', 'skoda',\n",
       "       'subaru', 'kia', 'citroen', 'chevrolet', 'hyundai', 'honda',\n",
       "       'daewoo', 'suzuki', 'land_rover', 'alfa_romeo', 'rover',\n",
       "       'daihatsu', 'trabant', 'lancia', 'lada'], dtype=object)"
      ]
     },
     "execution_count": 34,
     "metadata": {},
     "output_type": "execute_result"
    }
   ],
   "source": [
    "autos['brand'].unique()"
   ]
  },
  {
   "cell_type": "code",
   "execution_count": 35,
   "metadata": {
    "collapsed": false
   },
   "outputs": [],
   "source": [
    "top_10_brands = autos['brand'].value_counts()[:10]"
   ]
  },
  {
   "cell_type": "code",
   "execution_count": 36,
   "metadata": {
    "collapsed": true
   },
   "outputs": [],
   "source": [
    "bottom_10_brands = autos['brand'].value_counts()[-10:]"
   ]
  },
  {
   "cell_type": "code",
   "execution_count": 37,
   "metadata": {
    "collapsed": false
   },
   "outputs": [
    {
     "data": {
      "text/plain": [
       "volkswagen       9194\n",
       "bmw              4862\n",
       "opel             4567\n",
       "mercedes_benz    4126\n",
       "audi             3842\n",
       "ford             2936\n",
       "renault          1929\n",
       "peugeot          1264\n",
       "fiat             1062\n",
       "seat              809\n",
       "Name: brand, dtype: int64"
      ]
     },
     "execution_count": 37,
     "metadata": {},
     "output_type": "execute_result"
    }
   ],
   "source": [
    "top_10_brands"
   ]
  },
  {
   "cell_type": "code",
   "execution_count": 38,
   "metadata": {
    "collapsed": false
   },
   "outputs": [
    {
     "data": {
      "text/plain": [
       "daihatsu      96\n",
       "subaru        92\n",
       "land_rover    91\n",
       "saab          73\n",
       "jaguar        64\n",
       "daewoo        55\n",
       "rover         52\n",
       "lancia        46\n",
       "trabant       41\n",
       "lada          21\n",
       "Name: brand, dtype: int64"
      ]
     },
     "execution_count": 38,
     "metadata": {},
     "output_type": "execute_result"
    }
   ],
   "source": [
    "bottom_10_brands"
   ]
  },
  {
   "cell_type": "code",
   "execution_count": 39,
   "metadata": {
    "collapsed": false
   },
   "outputs": [
    {
     "name": "stdout",
     "output_type": "stream",
     "text": [
      "38353\n",
      "42981\n",
      "0.8923245154835858\n"
     ]
    }
   ],
   "source": [
    "print(10157+5201+5155+4586+4118+3331+2272+1413+1232+888)\n",
    "print(len(autos))\n",
    "print((10157+5201+5155+4586+4118+3331+2272+1413+1232+888) / len(autos))"
   ]
  },
  {
   "cell_type": "markdown",
   "metadata": {},
   "source": [
    "Looking at the data, it seems that the majority of the used cars are German brands (i.e. Volkswagen, BMW, Audi, Mercedes Benz) whilst the major foreign brand being Ford. Nevertheless, the most common used car brands are domestic. However, as it pertains to the 10 least popular brands, they are mainly foreign brands such as Subaru, Land Rover, Daewoo, etc. \n",
    "\n",
    "The decision to take the Top 10 brands is that these make up 89.3% of the entire dataset, which is a pretty good representation of the marketplace. "
   ]
  },
  {
   "cell_type": "code",
   "execution_count": 40,
   "metadata": {
    "collapsed": true
   },
   "outputs": [],
   "source": [
    "volkswagen_bool = autos['brand'] == \"volkswagen\"\n",
    "bmw_bool = autos['brand'] == 'bmw'\n",
    "opel_bool = autos['brand'] == \"opel\"\n",
    "mercedes_bool = autos['brand'] == 'mercedes_benz'\n",
    "audi_bool = autos['brand'] == \"audi\"\n",
    "ford_bool = autos['brand'] =='ford'\n",
    "renault_bool = autos['brand'] == \"renault\"\n",
    "peugeot_bool = autos['brand'] == 'peugeot'\n",
    "fiat_bool = autos['brand'] == 'fiat'\n",
    "seat_bool = autos['brand'] == 'seat'"
   ]
  },
  {
   "cell_type": "code",
   "execution_count": 41,
   "metadata": {
    "collapsed": true
   },
   "outputs": [],
   "source": [
    "volkswagen_only = autos[volkswagen_bool]\n",
    "bmw_only = autos[bmw_bool]\n",
    "opel_only = autos[opel_bool]\n",
    "mercedes_only = autos[mercedes_bool]\n",
    "audi_only = autos[audi_bool]\n",
    "ford_only = autos[ford_bool]\n",
    "renault_only = autos[renault_bool]\n",
    "peugeot_only = autos[peugeot_bool]\n",
    "fiat_only = autos[fiat_bool]\n",
    "seat_only = autos[seat_bool]"
   ]
  },
  {
   "cell_type": "code",
   "execution_count": 42,
   "metadata": {
    "collapsed": false
   },
   "outputs": [
    {
     "data": {
      "text/plain": [
       "{'audi': 9659.37,\n",
       " 'bmw': 8577.61,\n",
       " 'fiat': 2968.12,\n",
       " 'ford': 3932.04,\n",
       " 'mercedes_benz': 8936.97,\n",
       " 'opel': 3151.16,\n",
       " 'peugeot': 3249.6,\n",
       " 'renault': 2635.15,\n",
       " 'seat': 4675.29,\n",
       " 'volkswagen': 5660.48}"
      ]
     },
     "execution_count": 42,
     "metadata": {},
     "output_type": "execute_result"
    }
   ],
   "source": [
    "top_brands_mean_price = {}\n",
    "\n",
    "top_10 = autos['brand'].value_counts(ascending = False)[:10].index\n",
    "\n",
    "for maker in top_10:\n",
    "    selected_rows = autos[autos['brand'] == maker]\n",
    "    mean_price = selected_rows['price'].mean()\n",
    "    mean_price = mean_price.round(2)\n",
    "    top_brands_mean_price[maker] = mean_price\n",
    "\n",
    "top_brands_mean_price"
   ]
  },
  {
   "cell_type": "markdown",
   "metadata": {},
   "source": [
    "The avg. price for each of the top 10 car brands are:\n",
    "\n",
    "| Brand           | Avg. Price (in dollars) |\n",
    "|-----------------|-------------------------|\n",
    "| Audi            | 9659.37                 |\n",
    "| BMW             | 8577.61                 |\n",
    "| Fiat            | 2968.12                 |\n",
    "| Ford            | 3933.09                 |\n",
    "| Mercedes Benz   | 8936.97                 |\n",
    "| Opel            | 3151.16                 |\n",
    "| Peugeot         | 3249.60                 |\n",
    "| Renault         | 2635.15                 |\n",
    "| Seat            | 4675.29                 |\n",
    "| Volkswagen      | 5660.48                 |\n",
    "\n",
    "Looking at the data, it seems that the more luxurious brands (i.e. Audi, BMW, Mercedes Benz) have the highest price point whilst the foreign brands (i.e. Ford, Peugeot, Fiat) are on the lower end of the price point spectrum. As for the most populous brand (Volkswagen), its pricepoint is moderate. "
   ]
  },
  {
   "cell_type": "markdown",
   "metadata": {},
   "source": [
    "## Storing Aggregate Data\n",
    "\n",
    "Working with the top 10 brands, we want to see if mean mileage (i.e. odometer_km) and mean price are related to one another. "
   ]
  },
  {
   "cell_type": "code",
   "execution_count": 43,
   "metadata": {
    "collapsed": false
   },
   "outputs": [
    {
     "data": {
      "text/plain": [
       "{'audi': 128854.76,\n",
       " 'bmw': 132670.71,\n",
       " 'fiat': 116864.41,\n",
       " 'ford': 124105.93,\n",
       " 'mercedes_benz': 130822.83,\n",
       " 'opel': 129162.47,\n",
       " 'peugeot': 126475.47,\n",
       " 'renault': 127392.43,\n",
       " 'seat': 121161.93,\n",
       " 'volkswagen': 128454.97}"
      ]
     },
     "execution_count": 43,
     "metadata": {},
     "output_type": "execute_result"
    }
   ],
   "source": [
    "top_brands_mean_mileage = {}\n",
    "\n",
    "top_10 = autos['brand'].value_counts(ascending = False)[:10].index\n",
    "\n",
    "for maker in top_10:\n",
    "    selected_rows = autos[autos['brand'] == maker]\n",
    "    mean_km= selected_rows['odometer_km'].mean().round(2)\n",
    "    top_brands_mean_mileage[maker] = mean_km\n",
    "\n",
    "top_brands_mean_mileage"
   ]
  },
  {
   "cell_type": "markdown",
   "metadata": {},
   "source": [
    "Looking at the average mileage of the Top 10 brands of cars, it seems that the range lies b/t 116000km to 133000km. There luxurious brands (BMW and Mercedes) appear to have a higher mileage as compared to the foreign brands. "
   ]
  },
  {
   "cell_type": "code",
   "execution_count": 44,
   "metadata": {
    "collapsed": false
   },
   "outputs": [],
   "source": [
    "top_10_price = pd.Series(top_brands_mean_price)\n",
    "top_10_mileage = pd.Series(top_brands_mean_mileage)\n",
    "\n",
    "top_10_makers = pd.DataFrame(top_10_price, columns = ['mean_price'])\n",
    "top_10_makers['mean_mileage'] = top_10_mileage"
   ]
  },
  {
   "cell_type": "code",
   "execution_count": 45,
   "metadata": {
    "collapsed": false
   },
   "outputs": [
    {
     "data": {
      "text/html": [
       "<div>\n",
       "<style scoped>\n",
       "    .dataframe tbody tr th:only-of-type {\n",
       "        vertical-align: middle;\n",
       "    }\n",
       "\n",
       "    .dataframe tbody tr th {\n",
       "        vertical-align: top;\n",
       "    }\n",
       "\n",
       "    .dataframe thead th {\n",
       "        text-align: right;\n",
       "    }\n",
       "</style>\n",
       "<table border=\"1\" class=\"dataframe\">\n",
       "  <thead>\n",
       "    <tr style=\"text-align: right;\">\n",
       "      <th></th>\n",
       "      <th>mean_price</th>\n",
       "      <th>mean_mileage</th>\n",
       "    </tr>\n",
       "  </thead>\n",
       "  <tbody>\n",
       "    <tr>\n",
       "      <th>audi</th>\n",
       "      <td>9659.37</td>\n",
       "      <td>128854.76</td>\n",
       "    </tr>\n",
       "    <tr>\n",
       "      <th>bmw</th>\n",
       "      <td>8577.61</td>\n",
       "      <td>132670.71</td>\n",
       "    </tr>\n",
       "    <tr>\n",
       "      <th>fiat</th>\n",
       "      <td>2968.12</td>\n",
       "      <td>116864.41</td>\n",
       "    </tr>\n",
       "    <tr>\n",
       "      <th>ford</th>\n",
       "      <td>3932.04</td>\n",
       "      <td>124105.93</td>\n",
       "    </tr>\n",
       "    <tr>\n",
       "      <th>mercedes_benz</th>\n",
       "      <td>8936.97</td>\n",
       "      <td>130822.83</td>\n",
       "    </tr>\n",
       "    <tr>\n",
       "      <th>opel</th>\n",
       "      <td>3151.16</td>\n",
       "      <td>129162.47</td>\n",
       "    </tr>\n",
       "    <tr>\n",
       "      <th>peugeot</th>\n",
       "      <td>3249.60</td>\n",
       "      <td>126475.47</td>\n",
       "    </tr>\n",
       "    <tr>\n",
       "      <th>renault</th>\n",
       "      <td>2635.15</td>\n",
       "      <td>127392.43</td>\n",
       "    </tr>\n",
       "    <tr>\n",
       "      <th>seat</th>\n",
       "      <td>4675.29</td>\n",
       "      <td>121161.93</td>\n",
       "    </tr>\n",
       "    <tr>\n",
       "      <th>volkswagen</th>\n",
       "      <td>5660.48</td>\n",
       "      <td>128454.97</td>\n",
       "    </tr>\n",
       "  </tbody>\n",
       "</table>\n",
       "</div>"
      ],
      "text/plain": [
       "               mean_price  mean_mileage\n",
       "audi              9659.37     128854.76\n",
       "bmw               8577.61     132670.71\n",
       "fiat              2968.12     116864.41\n",
       "ford              3932.04     124105.93\n",
       "mercedes_benz     8936.97     130822.83\n",
       "opel              3151.16     129162.47\n",
       "peugeot           3249.60     126475.47\n",
       "renault           2635.15     127392.43\n",
       "seat              4675.29     121161.93\n",
       "volkswagen        5660.48     128454.97"
      ]
     },
     "execution_count": 45,
     "metadata": {},
     "output_type": "execute_result"
    }
   ],
   "source": [
    "top_10_makers"
   ]
  },
  {
   "cell_type": "markdown",
   "metadata": {},
   "source": [
    "It appears as though mileage doesn't seem to be as strongly related to price despite the more luxurious and priciest brands having a higher mean mileage as compared to the more economic and cheapest brands with a lower mean mileage. "
   ]
  },
  {
   "cell_type": "markdown",
   "metadata": {},
   "source": [
    "# EXTRA ANALYSIS: Common Brand + Model"
   ]
  },
  {
   "cell_type": "code",
   "execution_count": 46,
   "metadata": {
    "collapsed": true
   },
   "outputs": [],
   "source": [
    "col = ['brand', 'model']\n",
    "Brand_Model = autos[col]\n",
    "Brand_Model = Brand_Model.dropna(axis = 0)"
   ]
  },
  {
   "cell_type": "code",
   "execution_count": 47,
   "metadata": {
    "collapsed": false
   },
   "outputs": [
    {
     "data": {
      "text/plain": [
       "volkswagen       8878\n",
       "bmw              4685\n",
       "opel             4411\n",
       "mercedes_benz    4031\n",
       "audi             3747\n",
       "Name: brand, dtype: int64"
      ]
     },
     "execution_count": 47,
     "metadata": {},
     "output_type": "execute_result"
    }
   ],
   "source": [
    "Brand_Model['brand'].value_counts().head()"
   ]
  },
  {
   "cell_type": "code",
   "execution_count": 48,
   "metadata": {
    "collapsed": false
   },
   "outputs": [
    {
     "data": {
      "text/plain": [
       "golf      3536\n",
       "andere    2997\n",
       "3er       2467\n",
       "polo      1455\n",
       "corsa     1426\n",
       "Name: model, dtype: int64"
      ]
     },
     "execution_count": 48,
     "metadata": {},
     "output_type": "execute_result"
    }
   ],
   "source": [
    "Brand_Model['model'].value_counts().head()"
   ]
  },
  {
   "cell_type": "code",
   "execution_count": 49,
   "metadata": {
    "collapsed": false
   },
   "outputs": [
    {
     "data": {
      "text/plain": [
       "{'alfa_romeo': '156',\n",
       " 'audi': 'a3',\n",
       " 'bmw': '7er',\n",
       " 'chevrolet': 'andere',\n",
       " 'chrysler': 'voyager',\n",
       " 'citroen': 'andere',\n",
       " 'dacia': 'sandero',\n",
       " 'daewoo': 'kalos',\n",
       " 'daihatsu': 'terios',\n",
       " 'fiat': 'punto',\n",
       " 'ford': 'mondeo',\n",
       " 'honda': 'civic',\n",
       " 'hyundai': 'i_reihe',\n",
       " 'jaguar': 'andere',\n",
       " 'jeep': 'wrangler',\n",
       " 'kia': 'andere',\n",
       " 'lada': 'niva',\n",
       " 'lancia': 'lybra',\n",
       " 'land_rover': 'freelander',\n",
       " 'mazda': 'andere',\n",
       " 'mercedes_benz': 'e_klasse',\n",
       " 'mini': 'cooper',\n",
       " 'mitsubishi': 'colt',\n",
       " 'nissan': 'primera',\n",
       " 'opel': 'vectra',\n",
       " 'peugeot': 'andere',\n",
       " 'porsche': '911',\n",
       " 'renault': 'megane',\n",
       " 'rover': 'andere',\n",
       " 'saab': 'andere',\n",
       " 'seat': 'altea',\n",
       " 'skoda': 'octavia',\n",
       " 'smart': 'fortwo',\n",
       " 'subaru': 'andere',\n",
       " 'suzuki': 'grand',\n",
       " 'toyota': 'andere',\n",
       " 'trabant': '601',\n",
       " 'volkswagen': 'golf',\n",
       " 'volvo': 'andere'}"
      ]
     },
     "execution_count": 49,
     "metadata": {},
     "output_type": "execute_result"
    }
   ],
   "source": [
    "top_model_by_brand = {}\n",
    "\n",
    "brands = Brand_Model['brand'].unique()\n",
    "\n",
    "for b in brands:\n",
    "    selected_rows = Brand_Model[Brand_Model['brand'] == b]\n",
    "    sorted_rows = selected_rows.mode()\n",
    "    top_row = selected_rows.iloc[0]\n",
    "    top_model = top_row['model']\n",
    "    top_model_by_brand[b] = top_model\n",
    "\n",
    "top_model_by_brand"
   ]
  },
  {
   "cell_type": "markdown",
   "metadata": {},
   "source": [
    "# EXTRA ANALYSIS: Split Odometer x Price "
   ]
  },
  {
   "cell_type": "code",
   "execution_count": 50,
   "metadata": {
    "collapsed": false
   },
   "outputs": [
    {
     "data": {
      "text/plain": [
       "5000        505\n",
       "10000       213\n",
       "20000       697\n",
       "30000       726\n",
       "40000       769\n",
       "50000       962\n",
       "60000      1096\n",
       "70000      1138\n",
       "80000      1313\n",
       "90000      1579\n",
       "100000     1906\n",
       "125000     4621\n",
       "150000    27456\n",
       "Name: odometer_km, dtype: int64"
      ]
     },
     "execution_count": 50,
     "metadata": {},
     "output_type": "execute_result"
    }
   ],
   "source": [
    "autos['odometer_km'].value_counts().sort_index()"
   ]
  },
  {
   "cell_type": "code",
   "execution_count": 51,
   "metadata": {
    "collapsed": false
   },
   "outputs": [
    {
     "data": {
      "text/plain": [
       "42981"
      ]
     },
     "execution_count": 51,
     "metadata": {},
     "output_type": "execute_result"
    }
   ],
   "source": [
    "len(autos)"
   ]
  },
  {
   "cell_type": "markdown",
   "metadata": {},
   "source": [
    "Normally, the best approach should be a split in terms of equally distributed groups. However, considering the aggregation of vehicles with mileage greater than or equal to 150K km, we will break it down to the following distribution:\n",
    "\n",
    "1) 0 - 30000\n",
    "2) 30001 - 60000\n",
    "3) 60001 - 90000\n",
    "4) 90001 - 125000\n",
    "5) 125000 + "
   ]
  },
  {
   "cell_type": "code",
   "execution_count": 52,
   "metadata": {
    "collapsed": false
   },
   "outputs": [],
   "source": [
    "odometer_km_splits = []\n",
    "\n",
    "for km in autos['odometer_km']:\n",
    "    if km < 30001:\n",
    "        odometer_km_splits.append(\"0 - 30,000\")\n",
    "    elif km < 60001: \n",
    "        odometer_km_splits.append(\"30,001 - 60,000\")\n",
    "    elif km < 90001: \n",
    "        odometer_km_splits.append(\"60,001 - 90,000\")\n",
    "    elif km < 125001: \n",
    "        odometer_km_splits.append(\"90,001 - 125,000\")\n",
    "    else:\n",
    "        odometer_km_splits.append(\"125,000+\")"
   ]
  },
  {
   "cell_type": "code",
   "execution_count": 53,
   "metadata": {
    "collapsed": false
   },
   "outputs": [],
   "source": [
    "autos[\"odometer_km_splits\"] = odometer_km_splits"
   ]
  },
  {
   "cell_type": "code",
   "execution_count": 54,
   "metadata": {
    "collapsed": false
   },
   "outputs": [
    {
     "data": {
      "text/plain": [
       "125,000+            27456\n",
       "90,001 - 125,000     6527\n",
       "60,001 - 90,000      4030\n",
       "30,001 - 60,000      2827\n",
       "0 - 30,000           2141\n",
       "Name: odometer_km_splits, dtype: int64"
      ]
     },
     "execution_count": 54,
     "metadata": {},
     "output_type": "execute_result"
    }
   ],
   "source": [
    "autos['odometer_km_splits'].value_counts()"
   ]
  },
  {
   "cell_type": "code",
   "execution_count": 55,
   "metadata": {
    "collapsed": false
   },
   "outputs": [
    {
     "data": {
      "text/plain": [
       "{'0 - 30,000': 17004.72,\n",
       " '125,000+': 3953.13,\n",
       " '30,001 - 60,000': 13819.04,\n",
       " '60,001 - 90,000': 9826.49,\n",
       " '90,001 - 125,000': 6995.37}"
      ]
     },
     "execution_count": 55,
     "metadata": {},
     "output_type": "execute_result"
    }
   ],
   "source": [
    "price_by_mileage = {}\n",
    "\n",
    "odometer_splits = autos[\"odometer_km_splits\"].unique()\n",
    "\n",
    "for km in odometer_splits:\n",
    "    selected_rows = autos[autos[\"odometer_km_splits\"] == km]\n",
    "    avg_price = selected_rows['price'].mean().round(2)\n",
    "    price_by_mileage[km] =  avg_price\n",
    "\n",
    "price_by_mileage"
   ]
  },
  {
   "cell_type": "markdown",
   "metadata": {},
   "source": [
    "Looking at the breakdown of the odometer, there seems to be a negative relationship between mean price points of a vehicle and mileage where the greater the mileage = the lower the price of the vehicle. "
   ]
  },
  {
   "cell_type": "markdown",
   "metadata": {},
   "source": [
    "# Extra Analysis: Price x Damage"
   ]
  },
  {
   "cell_type": "code",
   "execution_count": 58,
   "metadata": {
    "collapsed": false
   },
   "outputs": [
    {
     "data": {
      "text/html": [
       "<div>\n",
       "<style scoped>\n",
       "    .dataframe tbody tr th:only-of-type {\n",
       "        vertical-align: middle;\n",
       "    }\n",
       "\n",
       "    .dataframe tbody tr th {\n",
       "        vertical-align: top;\n",
       "    }\n",
       "\n",
       "    .dataframe thead th {\n",
       "        text-align: right;\n",
       "    }\n",
       "</style>\n",
       "<table border=\"1\" class=\"dataframe\">\n",
       "  <thead>\n",
       "    <tr style=\"text-align: right;\">\n",
       "      <th></th>\n",
       "      <th>price</th>\n",
       "      <th>unrepaired_damage</th>\n",
       "    </tr>\n",
       "  </thead>\n",
       "  <tbody>\n",
       "    <tr>\n",
       "      <th>0</th>\n",
       "      <td>5000.0</td>\n",
       "      <td>nein</td>\n",
       "    </tr>\n",
       "    <tr>\n",
       "      <th>1</th>\n",
       "      <td>8500.0</td>\n",
       "      <td>nein</td>\n",
       "    </tr>\n",
       "    <tr>\n",
       "      <th>2</th>\n",
       "      <td>8990.0</td>\n",
       "      <td>nein</td>\n",
       "    </tr>\n",
       "    <tr>\n",
       "      <th>3</th>\n",
       "      <td>4350.0</td>\n",
       "      <td>nein</td>\n",
       "    </tr>\n",
       "    <tr>\n",
       "      <th>7</th>\n",
       "      <td>1990.0</td>\n",
       "      <td>nein</td>\n",
       "    </tr>\n",
       "    <tr>\n",
       "      <th>9</th>\n",
       "      <td>590.0</td>\n",
       "      <td>nein</td>\n",
       "    </tr>\n",
       "    <tr>\n",
       "      <th>10</th>\n",
       "      <td>999.0</td>\n",
       "      <td>nein</td>\n",
       "    </tr>\n",
       "    <tr>\n",
       "      <th>12</th>\n",
       "      <td>5299.0</td>\n",
       "      <td>nein</td>\n",
       "    </tr>\n",
       "    <tr>\n",
       "      <th>13</th>\n",
       "      <td>1350.0</td>\n",
       "      <td>nein</td>\n",
       "    </tr>\n",
       "    <tr>\n",
       "      <th>15</th>\n",
       "      <td>18900.0</td>\n",
       "      <td>nein</td>\n",
       "    </tr>\n",
       "    <tr>\n",
       "      <th>16</th>\n",
       "      <td>350.0</td>\n",
       "      <td>nein</td>\n",
       "    </tr>\n",
       "    <tr>\n",
       "      <th>17</th>\n",
       "      <td>5500.0</td>\n",
       "      <td>nein</td>\n",
       "    </tr>\n",
       "    <tr>\n",
       "      <th>19</th>\n",
       "      <td>4150.0</td>\n",
       "      <td>nein</td>\n",
       "    </tr>\n",
       "    <tr>\n",
       "      <th>21</th>\n",
       "      <td>41500.0</td>\n",
       "      <td>nein</td>\n",
       "    </tr>\n",
       "    <tr>\n",
       "      <th>22</th>\n",
       "      <td>25450.0</td>\n",
       "      <td>nein</td>\n",
       "    </tr>\n",
       "    <tr>\n",
       "      <th>23</th>\n",
       "      <td>7999.0</td>\n",
       "      <td>nein</td>\n",
       "    </tr>\n",
       "    <tr>\n",
       "      <th>24</th>\n",
       "      <td>48500.0</td>\n",
       "      <td>nein</td>\n",
       "    </tr>\n",
       "    <tr>\n",
       "      <th>26</th>\n",
       "      <td>777.0</td>\n",
       "      <td>nein</td>\n",
       "    </tr>\n",
       "    <tr>\n",
       "      <th>28</th>\n",
       "      <td>5250.0</td>\n",
       "      <td>ja</td>\n",
       "    </tr>\n",
       "    <tr>\n",
       "      <th>29</th>\n",
       "      <td>4999.0</td>\n",
       "      <td>nein</td>\n",
       "    </tr>\n",
       "    <tr>\n",
       "      <th>31</th>\n",
       "      <td>2850.0</td>\n",
       "      <td>nein</td>\n",
       "    </tr>\n",
       "    <tr>\n",
       "      <th>33</th>\n",
       "      <td>4800.0</td>\n",
       "      <td>nein</td>\n",
       "    </tr>\n",
       "    <tr>\n",
       "      <th>36</th>\n",
       "      <td>7500.0</td>\n",
       "      <td>nein</td>\n",
       "    </tr>\n",
       "    <tr>\n",
       "      <th>37</th>\n",
       "      <td>13800.0</td>\n",
       "      <td>nein</td>\n",
       "    </tr>\n",
       "    <tr>\n",
       "      <th>38</th>\n",
       "      <td>2850.0</td>\n",
       "      <td>nein</td>\n",
       "    </tr>\n",
       "    <tr>\n",
       "      <th>39</th>\n",
       "      <td>1450.0</td>\n",
       "      <td>nein</td>\n",
       "    </tr>\n",
       "    <tr>\n",
       "      <th>40</th>\n",
       "      <td>3500.0</td>\n",
       "      <td>nein</td>\n",
       "    </tr>\n",
       "    <tr>\n",
       "      <th>41</th>\n",
       "      <td>3200.0</td>\n",
       "      <td>nein</td>\n",
       "    </tr>\n",
       "    <tr>\n",
       "      <th>43</th>\n",
       "      <td>11500.0</td>\n",
       "      <td>nein</td>\n",
       "    </tr>\n",
       "    <tr>\n",
       "      <th>44</th>\n",
       "      <td>900.0</td>\n",
       "      <td>nein</td>\n",
       "    </tr>\n",
       "    <tr>\n",
       "      <th>...</th>\n",
       "      <td>...</td>\n",
       "      <td>...</td>\n",
       "    </tr>\n",
       "    <tr>\n",
       "      <th>49953</th>\n",
       "      <td>14750.0</td>\n",
       "      <td>nein</td>\n",
       "    </tr>\n",
       "    <tr>\n",
       "      <th>49956</th>\n",
       "      <td>4450.0</td>\n",
       "      <td>nein</td>\n",
       "    </tr>\n",
       "    <tr>\n",
       "      <th>49959</th>\n",
       "      <td>4200.0</td>\n",
       "      <td>nein</td>\n",
       "    </tr>\n",
       "    <tr>\n",
       "      <th>49962</th>\n",
       "      <td>2200.0</td>\n",
       "      <td>ja</td>\n",
       "    </tr>\n",
       "    <tr>\n",
       "      <th>49963</th>\n",
       "      <td>7600.0</td>\n",
       "      <td>nein</td>\n",
       "    </tr>\n",
       "    <tr>\n",
       "      <th>49965</th>\n",
       "      <td>6700.0</td>\n",
       "      <td>nein</td>\n",
       "    </tr>\n",
       "    <tr>\n",
       "      <th>49966</th>\n",
       "      <td>1490.0</td>\n",
       "      <td>ja</td>\n",
       "    </tr>\n",
       "    <tr>\n",
       "      <th>49968</th>\n",
       "      <td>2100.0</td>\n",
       "      <td>nein</td>\n",
       "    </tr>\n",
       "    <tr>\n",
       "      <th>49969</th>\n",
       "      <td>4500.0</td>\n",
       "      <td>nein</td>\n",
       "    </tr>\n",
       "    <tr>\n",
       "      <th>49970</th>\n",
       "      <td>15800.0</td>\n",
       "      <td>nein</td>\n",
       "    </tr>\n",
       "    <tr>\n",
       "      <th>49971</th>\n",
       "      <td>950.0</td>\n",
       "      <td>nein</td>\n",
       "    </tr>\n",
       "    <tr>\n",
       "      <th>49972</th>\n",
       "      <td>3300.0</td>\n",
       "      <td>ja</td>\n",
       "    </tr>\n",
       "    <tr>\n",
       "      <th>49973</th>\n",
       "      <td>6000.0</td>\n",
       "      <td>nein</td>\n",
       "    </tr>\n",
       "    <tr>\n",
       "      <th>49975</th>\n",
       "      <td>9700.0</td>\n",
       "      <td>nein</td>\n",
       "    </tr>\n",
       "    <tr>\n",
       "      <th>49976</th>\n",
       "      <td>5900.0</td>\n",
       "      <td>nein</td>\n",
       "    </tr>\n",
       "    <tr>\n",
       "      <th>49977</th>\n",
       "      <td>5500.0</td>\n",
       "      <td>nein</td>\n",
       "    </tr>\n",
       "    <tr>\n",
       "      <th>49978</th>\n",
       "      <td>900.0</td>\n",
       "      <td>ja</td>\n",
       "    </tr>\n",
       "    <tr>\n",
       "      <th>49979</th>\n",
       "      <td>11000.0</td>\n",
       "      <td>nein</td>\n",
       "    </tr>\n",
       "    <tr>\n",
       "      <th>49981</th>\n",
       "      <td>2000.0</td>\n",
       "      <td>nein</td>\n",
       "    </tr>\n",
       "    <tr>\n",
       "      <th>49986</th>\n",
       "      <td>15900.0</td>\n",
       "      <td>nein</td>\n",
       "    </tr>\n",
       "    <tr>\n",
       "      <th>49987</th>\n",
       "      <td>21990.0</td>\n",
       "      <td>nein</td>\n",
       "    </tr>\n",
       "    <tr>\n",
       "      <th>49988</th>\n",
       "      <td>9550.0</td>\n",
       "      <td>nein</td>\n",
       "    </tr>\n",
       "    <tr>\n",
       "      <th>49990</th>\n",
       "      <td>17500.0</td>\n",
       "      <td>nein</td>\n",
       "    </tr>\n",
       "    <tr>\n",
       "      <th>49992</th>\n",
       "      <td>4800.0</td>\n",
       "      <td>nein</td>\n",
       "    </tr>\n",
       "    <tr>\n",
       "      <th>49994</th>\n",
       "      <td>5000.0</td>\n",
       "      <td>nein</td>\n",
       "    </tr>\n",
       "    <tr>\n",
       "      <th>49995</th>\n",
       "      <td>24900.0</td>\n",
       "      <td>nein</td>\n",
       "    </tr>\n",
       "    <tr>\n",
       "      <th>49996</th>\n",
       "      <td>1980.0</td>\n",
       "      <td>nein</td>\n",
       "    </tr>\n",
       "    <tr>\n",
       "      <th>49997</th>\n",
       "      <td>13200.0</td>\n",
       "      <td>nein</td>\n",
       "    </tr>\n",
       "    <tr>\n",
       "      <th>49998</th>\n",
       "      <td>22900.0</td>\n",
       "      <td>nein</td>\n",
       "    </tr>\n",
       "    <tr>\n",
       "      <th>49999</th>\n",
       "      <td>1250.0</td>\n",
       "      <td>nein</td>\n",
       "    </tr>\n",
       "  </tbody>\n",
       "</table>\n",
       "<p>36657 rows × 2 columns</p>\n",
       "</div>"
      ],
      "text/plain": [
       "         price unrepaired_damage\n",
       "0       5000.0              nein\n",
       "1       8500.0              nein\n",
       "2       8990.0              nein\n",
       "3       4350.0              nein\n",
       "7       1990.0              nein\n",
       "9        590.0              nein\n",
       "10       999.0              nein\n",
       "12      5299.0              nein\n",
       "13      1350.0              nein\n",
       "15     18900.0              nein\n",
       "16       350.0              nein\n",
       "17      5500.0              nein\n",
       "19      4150.0              nein\n",
       "21     41500.0              nein\n",
       "22     25450.0              nein\n",
       "23      7999.0              nein\n",
       "24     48500.0              nein\n",
       "26       777.0              nein\n",
       "28      5250.0                ja\n",
       "29      4999.0              nein\n",
       "31      2850.0              nein\n",
       "33      4800.0              nein\n",
       "36      7500.0              nein\n",
       "37     13800.0              nein\n",
       "38      2850.0              nein\n",
       "39      1450.0              nein\n",
       "40      3500.0              nein\n",
       "41      3200.0              nein\n",
       "43     11500.0              nein\n",
       "44       900.0              nein\n",
       "...        ...               ...\n",
       "49953  14750.0              nein\n",
       "49956   4450.0              nein\n",
       "49959   4200.0              nein\n",
       "49962   2200.0                ja\n",
       "49963   7600.0              nein\n",
       "49965   6700.0              nein\n",
       "49966   1490.0                ja\n",
       "49968   2100.0              nein\n",
       "49969   4500.0              nein\n",
       "49970  15800.0              nein\n",
       "49971    950.0              nein\n",
       "49972   3300.0                ja\n",
       "49973   6000.0              nein\n",
       "49975   9700.0              nein\n",
       "49976   5900.0              nein\n",
       "49977   5500.0              nein\n",
       "49978    900.0                ja\n",
       "49979  11000.0              nein\n",
       "49981   2000.0              nein\n",
       "49986  15900.0              nein\n",
       "49987  21990.0              nein\n",
       "49988   9550.0              nein\n",
       "49990  17500.0              nein\n",
       "49992   4800.0              nein\n",
       "49994   5000.0              nein\n",
       "49995  24900.0              nein\n",
       "49996   1980.0              nein\n",
       "49997  13200.0              nein\n",
       "49998  22900.0              nein\n",
       "49999   1250.0              nein\n",
       "\n",
       "[36657 rows x 2 columns]"
      ]
     },
     "execution_count": 58,
     "metadata": {},
     "output_type": "execute_result"
    }
   ],
   "source": [
    "col = ['price', 'unrepaired_damage']\n",
    "price_by_damage = autos[col].dropna(axis = 0)\n",
    "price_by_damage"
   ]
  },
  {
   "cell_type": "code",
   "execution_count": 60,
   "metadata": {
    "collapsed": false
   },
   "outputs": [
    {
     "data": {
      "text/plain": [
       "{'ja': 2354.32, 'nein': 7282.34}"
      ]
     },
     "execution_count": 60,
     "metadata": {},
     "output_type": "execute_result"
    }
   ],
   "source": [
    "price_by_status = {}\n",
    "\n",
    "status = price_by_damage['unrepaired_damage'].unique()\n",
    "\n",
    "for s in status:\n",
    "    rows = price_by_damage[price_by_damage['unrepaired_damage'] == s]\n",
    "    avg_price = rows['price'].mean().round(2)\n",
    "    price_by_status[s] = avg_price\n",
    "\n",
    "price_by_status"
   ]
  },
  {
   "cell_type": "markdown",
   "metadata": {},
   "source": [
    "Looking at whether or not there was any unrepaired damage to a vehicle, a greater average price point was found for vehicles without any unrepaired damage as compared to those with it. "
   ]
  }
 ],
 "metadata": {
  "kernelspec": {
   "display_name": "Python 3",
   "language": "python",
   "name": "python3"
  },
  "language_info": {
   "codemirror_mode": {
    "name": "ipython",
    "version": 3
   },
   "file_extension": ".py",
   "mimetype": "text/x-python",
   "name": "python",
   "nbconvert_exporter": "python",
   "pygments_lexer": "ipython3",
   "version": "3.4.3"
  }
 },
 "nbformat": 4,
 "nbformat_minor": 2
}
